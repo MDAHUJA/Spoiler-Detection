{
 "cells": [
  {
   "cell_type": "code",
   "execution_count": 1,
   "metadata": {
    "_cell_guid": "b1076dfc-b9ad-4769-8c92-a6c4dae69d19",
    "_uuid": "8f2839f25d086af736a60e9eeb907d3b93b6e0e5",
    "execution": {
     "iopub.execute_input": "2023-02-28T06:35:21.628006Z",
     "iopub.status.busy": "2023-02-28T06:35:21.627535Z",
     "iopub.status.idle": "2023-02-28T06:35:21.680371Z",
     "shell.execute_reply": "2023-02-28T06:35:21.679014Z",
     "shell.execute_reply.started": "2023-02-28T06:35:21.627962Z"
    }
   },
   "outputs": [
    {
     "name": "stdout",
     "output_type": "stream",
     "text": [
      "C:\\Users\\andyt\\OneDrive\\Desktop\\MCS\\Keystone Project\n"
     ]
    }
   ],
   "source": [
    "%cd C:\\Users\\andyt\\OneDrive\\Desktop\\MCS\\Keystone Project"
   ]
  },
  {
   "cell_type": "code",
   "execution_count": 2,
   "metadata": {
    "execution": {
     "iopub.execute_input": "2023-02-28T06:35:21.683636Z",
     "iopub.status.busy": "2023-02-28T06:35:21.683171Z",
     "iopub.status.idle": "2023-02-28T06:35:22.377206Z",
     "shell.execute_reply": "2023-02-28T06:35:22.376077Z",
     "shell.execute_reply.started": "2023-02-28T06:35:21.683585Z"
    }
   },
   "outputs": [],
   "source": [
    "import numpy as np\n",
    "import pandas as pd\n",
    "import matplotlib.pyplot as plt\n",
    "import seaborn as sns"
   ]
  },
  {
   "cell_type": "code",
   "execution_count": 3,
   "metadata": {
    "execution": {
     "iopub.execute_input": "2023-02-28T06:35:22.378909Z",
     "iopub.status.busy": "2023-02-28T06:35:22.378502Z",
     "iopub.status.idle": "2023-02-28T06:35:44.067630Z",
     "shell.execute_reply": "2023-02-28T06:35:44.066412Z",
     "shell.execute_reply.started": "2023-02-28T06:35:22.378872Z"
    }
   },
   "outputs": [],
   "source": [
    "df_reviews = pd.read_json('IMDB_reviews.json', lines=True)"
   ]
  },
  {
   "cell_type": "code",
   "execution_count": 4,
   "metadata": {
    "execution": {
     "iopub.execute_input": "2023-02-28T06:35:44.069792Z",
     "iopub.status.busy": "2023-02-28T06:35:44.069303Z",
     "iopub.status.idle": "2023-02-28T06:35:44.429316Z",
     "shell.execute_reply": "2023-02-28T06:35:44.427965Z",
     "shell.execute_reply.started": "2023-02-28T06:35:44.069718Z"
    }
   },
   "outputs": [],
   "source": [
    "df_details = pd.read_json('IMDB_movie_details.json', lines=True)"
   ]
  },
  {
   "cell_type": "code",
   "execution_count": 5,
   "metadata": {
    "execution": {
     "iopub.execute_input": "2023-02-28T06:35:44.434278Z",
     "iopub.status.busy": "2023-02-28T06:35:44.433366Z",
     "iopub.status.idle": "2023-02-28T06:35:44.441479Z",
     "shell.execute_reply": "2023-02-28T06:35:44.440097Z",
     "shell.execute_reply.started": "2023-02-28T06:35:44.434222Z"
    }
   },
   "outputs": [
    {
     "name": "stdout",
     "output_type": "stream",
     "text": [
      "User reviews shape:  (573913, 7)\n",
      "Movie details shape:  (1572, 7)\n"
     ]
    }
   ],
   "source": [
    "print('User reviews shape: ', df_reviews.shape)\n",
    "print('Movie details shape: ', df_details.shape)"
   ]
  },
  {
   "cell_type": "code",
   "execution_count": 6,
   "metadata": {
    "execution": {
     "iopub.execute_input": "2023-02-28T06:35:44.443252Z",
     "iopub.status.busy": "2023-02-28T06:35:44.442862Z",
     "iopub.status.idle": "2023-02-28T06:35:44.478548Z",
     "shell.execute_reply": "2023-02-28T06:35:44.476964Z",
     "shell.execute_reply.started": "2023-02-28T06:35:44.443214Z"
    }
   },
   "outputs": [
    {
     "data": {
      "text/html": [
       "<div>\n",
       "<style scoped>\n",
       "    .dataframe tbody tr th:only-of-type {\n",
       "        vertical-align: middle;\n",
       "    }\n",
       "\n",
       "    .dataframe tbody tr th {\n",
       "        vertical-align: top;\n",
       "    }\n",
       "\n",
       "    .dataframe thead th {\n",
       "        text-align: right;\n",
       "    }\n",
       "</style>\n",
       "<table border=\"1\" class=\"dataframe\">\n",
       "  <thead>\n",
       "    <tr style=\"text-align: right;\">\n",
       "      <th></th>\n",
       "      <th>review_date</th>\n",
       "      <th>movie_id</th>\n",
       "      <th>user_id</th>\n",
       "      <th>is_spoiler</th>\n",
       "      <th>review_text</th>\n",
       "      <th>rating</th>\n",
       "      <th>review_summary</th>\n",
       "    </tr>\n",
       "  </thead>\n",
       "  <tbody>\n",
       "    <tr>\n",
       "      <th>0</th>\n",
       "      <td>10 February 2006</td>\n",
       "      <td>tt0111161</td>\n",
       "      <td>ur1898687</td>\n",
       "      <td>True</td>\n",
       "      <td>In its Oscar year, Shawshank Redemption (writt...</td>\n",
       "      <td>10</td>\n",
       "      <td>A classic piece of unforgettable film-making.</td>\n",
       "    </tr>\n",
       "    <tr>\n",
       "      <th>1</th>\n",
       "      <td>6 September 2000</td>\n",
       "      <td>tt0111161</td>\n",
       "      <td>ur0842118</td>\n",
       "      <td>True</td>\n",
       "      <td>The Shawshank Redemption is without a doubt on...</td>\n",
       "      <td>10</td>\n",
       "      <td>Simply amazing. The best film of the 90's.</td>\n",
       "    </tr>\n",
       "    <tr>\n",
       "      <th>2</th>\n",
       "      <td>3 August 2001</td>\n",
       "      <td>tt0111161</td>\n",
       "      <td>ur1285640</td>\n",
       "      <td>True</td>\n",
       "      <td>I believe that this film is the best story eve...</td>\n",
       "      <td>8</td>\n",
       "      <td>The best story ever told on film</td>\n",
       "    </tr>\n",
       "    <tr>\n",
       "      <th>3</th>\n",
       "      <td>1 September 2002</td>\n",
       "      <td>tt0111161</td>\n",
       "      <td>ur1003471</td>\n",
       "      <td>True</td>\n",
       "      <td>**Yes, there are SPOILERS here**This film has ...</td>\n",
       "      <td>10</td>\n",
       "      <td>Busy dying or busy living?</td>\n",
       "    </tr>\n",
       "    <tr>\n",
       "      <th>4</th>\n",
       "      <td>20 May 2004</td>\n",
       "      <td>tt0111161</td>\n",
       "      <td>ur0226855</td>\n",
       "      <td>True</td>\n",
       "      <td>At the heart of this extraordinary movie is a ...</td>\n",
       "      <td>8</td>\n",
       "      <td>Great story, wondrously told and acted</td>\n",
       "    </tr>\n",
       "  </tbody>\n",
       "</table>\n",
       "</div>"
      ],
      "text/plain": [
       "        review_date   movie_id    user_id  is_spoiler  \\\n",
       "0  10 February 2006  tt0111161  ur1898687        True   \n",
       "1  6 September 2000  tt0111161  ur0842118        True   \n",
       "2     3 August 2001  tt0111161  ur1285640        True   \n",
       "3  1 September 2002  tt0111161  ur1003471        True   \n",
       "4       20 May 2004  tt0111161  ur0226855        True   \n",
       "\n",
       "                                         review_text  rating  \\\n",
       "0  In its Oscar year, Shawshank Redemption (writt...      10   \n",
       "1  The Shawshank Redemption is without a doubt on...      10   \n",
       "2  I believe that this film is the best story eve...       8   \n",
       "3  **Yes, there are SPOILERS here**This film has ...      10   \n",
       "4  At the heart of this extraordinary movie is a ...       8   \n",
       "\n",
       "                                  review_summary  \n",
       "0  A classic piece of unforgettable film-making.  \n",
       "1     Simply amazing. The best film of the 90's.  \n",
       "2               The best story ever told on film  \n",
       "3                     Busy dying or busy living?  \n",
       "4         Great story, wondrously told and acted  "
      ]
     },
     "execution_count": 6,
     "metadata": {},
     "output_type": "execute_result"
    }
   ],
   "source": [
    "df_reviews.head()"
   ]
  },
  {
   "cell_type": "code",
   "execution_count": 7,
   "metadata": {
    "execution": {
     "iopub.execute_input": "2023-02-28T06:35:44.480806Z",
     "iopub.status.busy": "2023-02-28T06:35:44.480298Z",
     "iopub.status.idle": "2023-02-28T06:35:44.500281Z",
     "shell.execute_reply": "2023-02-28T06:35:44.498513Z",
     "shell.execute_reply.started": "2023-02-28T06:35:44.480749Z"
    }
   },
   "outputs": [
    {
     "data": {
      "text/html": [
       "<div>\n",
       "<style scoped>\n",
       "    .dataframe tbody tr th:only-of-type {\n",
       "        vertical-align: middle;\n",
       "    }\n",
       "\n",
       "    .dataframe tbody tr th {\n",
       "        vertical-align: top;\n",
       "    }\n",
       "\n",
       "    .dataframe thead th {\n",
       "        text-align: right;\n",
       "    }\n",
       "</style>\n",
       "<table border=\"1\" class=\"dataframe\">\n",
       "  <thead>\n",
       "    <tr style=\"text-align: right;\">\n",
       "      <th></th>\n",
       "      <th>movie_id</th>\n",
       "      <th>plot_summary</th>\n",
       "      <th>duration</th>\n",
       "      <th>genre</th>\n",
       "      <th>rating</th>\n",
       "      <th>release_date</th>\n",
       "      <th>plot_synopsis</th>\n",
       "    </tr>\n",
       "  </thead>\n",
       "  <tbody>\n",
       "    <tr>\n",
       "      <th>0</th>\n",
       "      <td>tt0105112</td>\n",
       "      <td>Former CIA analyst, Jack Ryan is in England wi...</td>\n",
       "      <td>1h 57min</td>\n",
       "      <td>[Action, Thriller]</td>\n",
       "      <td>6.9</td>\n",
       "      <td>1992-06-05</td>\n",
       "      <td>Jack Ryan (Ford) is on a \"working vacation\" in...</td>\n",
       "    </tr>\n",
       "    <tr>\n",
       "      <th>1</th>\n",
       "      <td>tt1204975</td>\n",
       "      <td>Billy (Michael Douglas), Paddy (Robert De Niro...</td>\n",
       "      <td>1h 45min</td>\n",
       "      <td>[Comedy]</td>\n",
       "      <td>6.6</td>\n",
       "      <td>2013-11-01</td>\n",
       "      <td>Four boys around the age of 10 are friends in ...</td>\n",
       "    </tr>\n",
       "    <tr>\n",
       "      <th>2</th>\n",
       "      <td>tt0243655</td>\n",
       "      <td>The setting is Camp Firewood, the year 1981. I...</td>\n",
       "      <td>1h 37min</td>\n",
       "      <td>[Comedy, Romance]</td>\n",
       "      <td>6.7</td>\n",
       "      <td>2002-04-11</td>\n",
       "      <td></td>\n",
       "    </tr>\n",
       "    <tr>\n",
       "      <th>3</th>\n",
       "      <td>tt0040897</td>\n",
       "      <td>Fred C. Dobbs and Bob Curtin, both down on the...</td>\n",
       "      <td>2h 6min</td>\n",
       "      <td>[Adventure, Drama, Western]</td>\n",
       "      <td>8.3</td>\n",
       "      <td>1948-01-24</td>\n",
       "      <td>Fred Dobbs (Humphrey Bogart) and Bob Curtin (T...</td>\n",
       "    </tr>\n",
       "    <tr>\n",
       "      <th>4</th>\n",
       "      <td>tt0126886</td>\n",
       "      <td>Tracy Flick is running unopposed for this year...</td>\n",
       "      <td>1h 43min</td>\n",
       "      <td>[Comedy, Drama, Romance]</td>\n",
       "      <td>7.3</td>\n",
       "      <td>1999-05-07</td>\n",
       "      <td>Jim McAllister (Matthew Broderick) is a much-a...</td>\n",
       "    </tr>\n",
       "  </tbody>\n",
       "</table>\n",
       "</div>"
      ],
      "text/plain": [
       "    movie_id                                       plot_summary  duration  \\\n",
       "0  tt0105112  Former CIA analyst, Jack Ryan is in England wi...  1h 57min   \n",
       "1  tt1204975  Billy (Michael Douglas), Paddy (Robert De Niro...  1h 45min   \n",
       "2  tt0243655  The setting is Camp Firewood, the year 1981. I...  1h 37min   \n",
       "3  tt0040897  Fred C. Dobbs and Bob Curtin, both down on the...   2h 6min   \n",
       "4  tt0126886  Tracy Flick is running unopposed for this year...  1h 43min   \n",
       "\n",
       "                         genre  rating release_date  \\\n",
       "0           [Action, Thriller]     6.9   1992-06-05   \n",
       "1                     [Comedy]     6.6   2013-11-01   \n",
       "2            [Comedy, Romance]     6.7   2002-04-11   \n",
       "3  [Adventure, Drama, Western]     8.3   1948-01-24   \n",
       "4     [Comedy, Drama, Romance]     7.3   1999-05-07   \n",
       "\n",
       "                                       plot_synopsis  \n",
       "0  Jack Ryan (Ford) is on a \"working vacation\" in...  \n",
       "1  Four boys around the age of 10 are friends in ...  \n",
       "2                                                     \n",
       "3  Fred Dobbs (Humphrey Bogart) and Bob Curtin (T...  \n",
       "4  Jim McAllister (Matthew Broderick) is a much-a...  "
      ]
     },
     "execution_count": 7,
     "metadata": {},
     "output_type": "execute_result"
    }
   ],
   "source": [
    "df_details.head()"
   ]
  },
  {
   "cell_type": "code",
   "execution_count": 8,
   "metadata": {
    "execution": {
     "iopub.execute_input": "2023-02-28T06:35:44.502291Z",
     "iopub.status.busy": "2023-02-28T06:35:44.501938Z",
     "iopub.status.idle": "2023-02-28T06:35:44.558960Z",
     "shell.execute_reply": "2023-02-28T06:35:44.557698Z",
     "shell.execute_reply.started": "2023-02-28T06:35:44.502257Z"
    }
   },
   "outputs": [
    {
     "data": {
      "text/html": [
       "<div>\n",
       "<style scoped>\n",
       "    .dataframe tbody tr th:only-of-type {\n",
       "        vertical-align: middle;\n",
       "    }\n",
       "\n",
       "    .dataframe tbody tr th {\n",
       "        vertical-align: top;\n",
       "    }\n",
       "\n",
       "    .dataframe thead th {\n",
       "        text-align: right;\n",
       "    }\n",
       "</style>\n",
       "<table border=\"1\" class=\"dataframe\">\n",
       "  <thead>\n",
       "    <tr style=\"text-align: right;\">\n",
       "      <th></th>\n",
       "      <th>movie_id</th>\n",
       "      <th>plot_summary</th>\n",
       "      <th>duration</th>\n",
       "      <th>genre</th>\n",
       "      <th>release_date</th>\n",
       "      <th>plot_synopsis</th>\n",
       "    </tr>\n",
       "  </thead>\n",
       "  <tbody>\n",
       "    <tr>\n",
       "      <th>count</th>\n",
       "      <td>1572</td>\n",
       "      <td>1572</td>\n",
       "      <td>1572</td>\n",
       "      <td>1572</td>\n",
       "      <td>1572</td>\n",
       "      <td>1572</td>\n",
       "    </tr>\n",
       "    <tr>\n",
       "      <th>unique</th>\n",
       "      <td>1572</td>\n",
       "      <td>1572</td>\n",
       "      <td>132</td>\n",
       "      <td>237</td>\n",
       "      <td>1208</td>\n",
       "      <td>1340</td>\n",
       "    </tr>\n",
       "    <tr>\n",
       "      <th>top</th>\n",
       "      <td>tt0105112</td>\n",
       "      <td>Former CIA analyst, Jack Ryan is in England wi...</td>\n",
       "      <td>1h 44min</td>\n",
       "      <td>[Action, Adventure, Sci-Fi]</td>\n",
       "      <td>2007-11-21</td>\n",
       "      <td></td>\n",
       "    </tr>\n",
       "    <tr>\n",
       "      <th>freq</th>\n",
       "      <td>1</td>\n",
       "      <td>1</td>\n",
       "      <td>40</td>\n",
       "      <td>68</td>\n",
       "      <td>5</td>\n",
       "      <td>233</td>\n",
       "    </tr>\n",
       "  </tbody>\n",
       "</table>\n",
       "</div>"
      ],
      "text/plain": [
       "         movie_id                                       plot_summary  \\\n",
       "count        1572                                               1572   \n",
       "unique       1572                                               1572   \n",
       "top     tt0105112  Former CIA analyst, Jack Ryan is in England wi...   \n",
       "freq            1                                                  1   \n",
       "\n",
       "        duration                        genre release_date plot_synopsis  \n",
       "count       1572                         1572         1572          1572  \n",
       "unique       132                          237         1208          1340  \n",
       "top     1h 44min  [Action, Adventure, Sci-Fi]   2007-11-21                \n",
       "freq          40                           68            5           233  "
      ]
     },
     "execution_count": 8,
     "metadata": {},
     "output_type": "execute_result"
    }
   ],
   "source": [
    "df_details.describe(include = 'O')"
   ]
  },
  {
   "cell_type": "code",
   "execution_count": 9,
   "metadata": {
    "execution": {
     "iopub.execute_input": "2023-02-28T06:35:44.560745Z",
     "iopub.status.busy": "2023-02-28T06:35:44.560406Z",
     "iopub.status.idle": "2023-02-28T06:35:47.485454Z",
     "shell.execute_reply": "2023-02-28T06:35:47.483913Z",
     "shell.execute_reply.started": "2023-02-28T06:35:44.560711Z"
    },
    "scrolled": true
   },
   "outputs": [
    {
     "data": {
      "text/html": [
       "<div>\n",
       "<style scoped>\n",
       "    .dataframe tbody tr th:only-of-type {\n",
       "        vertical-align: middle;\n",
       "    }\n",
       "\n",
       "    .dataframe tbody tr th {\n",
       "        vertical-align: top;\n",
       "    }\n",
       "\n",
       "    .dataframe thead th {\n",
       "        text-align: right;\n",
       "    }\n",
       "</style>\n",
       "<table border=\"1\" class=\"dataframe\">\n",
       "  <thead>\n",
       "    <tr style=\"text-align: right;\">\n",
       "      <th></th>\n",
       "      <th>review_date</th>\n",
       "      <th>movie_id</th>\n",
       "      <th>user_id</th>\n",
       "      <th>review_text</th>\n",
       "      <th>review_summary</th>\n",
       "    </tr>\n",
       "  </thead>\n",
       "  <tbody>\n",
       "    <tr>\n",
       "      <th>count</th>\n",
       "      <td>573913</td>\n",
       "      <td>573913</td>\n",
       "      <td>573913</td>\n",
       "      <td>573913</td>\n",
       "      <td>573913</td>\n",
       "    </tr>\n",
       "    <tr>\n",
       "      <th>unique</th>\n",
       "      <td>7104</td>\n",
       "      <td>1572</td>\n",
       "      <td>263407</td>\n",
       "      <td>573385</td>\n",
       "      <td>499049</td>\n",
       "    </tr>\n",
       "    <tr>\n",
       "      <th>top</th>\n",
       "      <td>17 December 2003</td>\n",
       "      <td>tt0468569</td>\n",
       "      <td>ur2898520</td>\n",
       "      <td>I have never seen such an amazing film since I...</td>\n",
       "      <td>Disappointing</td>\n",
       "    </tr>\n",
       "    <tr>\n",
       "      <th>freq</th>\n",
       "      <td>355</td>\n",
       "      <td>4845</td>\n",
       "      <td>1303</td>\n",
       "      <td>16</td>\n",
       "      <td>794</td>\n",
       "    </tr>\n",
       "  </tbody>\n",
       "</table>\n",
       "</div>"
      ],
      "text/plain": [
       "             review_date   movie_id    user_id  \\\n",
       "count             573913     573913     573913   \n",
       "unique              7104       1572     263407   \n",
       "top     17 December 2003  tt0468569  ur2898520   \n",
       "freq                 355       4845       1303   \n",
       "\n",
       "                                              review_text review_summary  \n",
       "count                                              573913         573913  \n",
       "unique                                             573385         499049  \n",
       "top     I have never seen such an amazing film since I...  Disappointing  \n",
       "freq                                                   16            794  "
      ]
     },
     "execution_count": 9,
     "metadata": {},
     "output_type": "execute_result"
    }
   ],
   "source": [
    "df_reviews.describe(include = 'O')"
   ]
  },
  {
   "cell_type": "code",
   "execution_count": 10,
   "metadata": {
    "execution": {
     "iopub.execute_input": "2023-02-28T06:35:47.487289Z",
     "iopub.status.busy": "2023-02-28T06:35:47.486962Z",
     "iopub.status.idle": "2023-02-28T06:35:47.539303Z",
     "shell.execute_reply": "2023-02-28T06:35:47.537829Z",
     "shell.execute_reply.started": "2023-02-28T06:35:47.487257Z"
    }
   },
   "outputs": [],
   "source": [
    "df_reviews.drop([\"user_id\", \"review_summary\"], axis = 1, inplace = True)"
   ]
  },
  {
   "cell_type": "code",
   "execution_count": 11,
   "metadata": {
    "execution": {
     "iopub.execute_input": "2023-02-28T06:35:47.541393Z",
     "iopub.status.busy": "2023-02-28T06:35:47.540958Z",
     "iopub.status.idle": "2023-02-28T06:35:47.548758Z",
     "shell.execute_reply": "2023-02-28T06:35:47.547124Z",
     "shell.execute_reply.started": "2023-02-28T06:35:47.541356Z"
    }
   },
   "outputs": [],
   "source": [
    "df_details.drop([\"duration\"], axis = 1, inplace = True)"
   ]
  },
  {
   "cell_type": "code",
   "execution_count": 12,
   "metadata": {
    "execution": {
     "iopub.execute_input": "2023-02-28T06:35:47.551082Z",
     "iopub.status.busy": "2023-02-28T06:35:47.550411Z",
     "iopub.status.idle": "2023-02-28T06:35:47.709150Z",
     "shell.execute_reply": "2023-02-28T06:35:47.707686Z",
     "shell.execute_reply.started": "2023-02-28T06:35:47.551041Z"
    }
   },
   "outputs": [],
   "source": [
    "dataset = pd.merge(df_reviews,df_details, how=\"inner\", on=\"movie_id\")"
   ]
  },
  {
   "cell_type": "code",
   "execution_count": 13,
   "metadata": {},
   "outputs": [],
   "source": [
    "dataset.drop([\"rating_x\", \"rating_y\", \"review_date\", \"release_date\", \"genre\"], axis=1, inplace=True)"
   ]
  },
  {
   "cell_type": "code",
   "execution_count": 14,
   "metadata": {
    "execution": {
     "iopub.execute_input": "2023-02-28T06:35:47.711462Z",
     "iopub.status.busy": "2023-02-28T06:35:47.710734Z",
     "iopub.status.idle": "2023-02-28T06:35:47.732931Z",
     "shell.execute_reply": "2023-02-28T06:35:47.731559Z",
     "shell.execute_reply.started": "2023-02-28T06:35:47.711410Z"
    }
   },
   "outputs": [
    {
     "data": {
      "text/html": [
       "<div>\n",
       "<style scoped>\n",
       "    .dataframe tbody tr th:only-of-type {\n",
       "        vertical-align: middle;\n",
       "    }\n",
       "\n",
       "    .dataframe tbody tr th {\n",
       "        vertical-align: top;\n",
       "    }\n",
       "\n",
       "    .dataframe thead th {\n",
       "        text-align: right;\n",
       "    }\n",
       "</style>\n",
       "<table border=\"1\" class=\"dataframe\">\n",
       "  <thead>\n",
       "    <tr style=\"text-align: right;\">\n",
       "      <th></th>\n",
       "      <th>movie_id</th>\n",
       "      <th>is_spoiler</th>\n",
       "      <th>review_text</th>\n",
       "      <th>plot_summary</th>\n",
       "      <th>plot_synopsis</th>\n",
       "    </tr>\n",
       "  </thead>\n",
       "  <tbody>\n",
       "    <tr>\n",
       "      <th>0</th>\n",
       "      <td>tt0111161</td>\n",
       "      <td>True</td>\n",
       "      <td>In its Oscar year, Shawshank Redemption (writt...</td>\n",
       "      <td>Chronicles the experiences of a formerly succe...</td>\n",
       "      <td>In 1947, Andy Dufresne (Tim Robbins), a banker...</td>\n",
       "    </tr>\n",
       "    <tr>\n",
       "      <th>1</th>\n",
       "      <td>tt0111161</td>\n",
       "      <td>True</td>\n",
       "      <td>The Shawshank Redemption is without a doubt on...</td>\n",
       "      <td>Chronicles the experiences of a formerly succe...</td>\n",
       "      <td>In 1947, Andy Dufresne (Tim Robbins), a banker...</td>\n",
       "    </tr>\n",
       "    <tr>\n",
       "      <th>2</th>\n",
       "      <td>tt0111161</td>\n",
       "      <td>True</td>\n",
       "      <td>I believe that this film is the best story eve...</td>\n",
       "      <td>Chronicles the experiences of a formerly succe...</td>\n",
       "      <td>In 1947, Andy Dufresne (Tim Robbins), a banker...</td>\n",
       "    </tr>\n",
       "    <tr>\n",
       "      <th>3</th>\n",
       "      <td>tt0111161</td>\n",
       "      <td>True</td>\n",
       "      <td>**Yes, there are SPOILERS here**This film has ...</td>\n",
       "      <td>Chronicles the experiences of a formerly succe...</td>\n",
       "      <td>In 1947, Andy Dufresne (Tim Robbins), a banker...</td>\n",
       "    </tr>\n",
       "    <tr>\n",
       "      <th>4</th>\n",
       "      <td>tt0111161</td>\n",
       "      <td>True</td>\n",
       "      <td>At the heart of this extraordinary movie is a ...</td>\n",
       "      <td>Chronicles the experiences of a formerly succe...</td>\n",
       "      <td>In 1947, Andy Dufresne (Tim Robbins), a banker...</td>\n",
       "    </tr>\n",
       "  </tbody>\n",
       "</table>\n",
       "</div>"
      ],
      "text/plain": [
       "    movie_id  is_spoiler                                        review_text  \\\n",
       "0  tt0111161        True  In its Oscar year, Shawshank Redemption (writt...   \n",
       "1  tt0111161        True  The Shawshank Redemption is without a doubt on...   \n",
       "2  tt0111161        True  I believe that this film is the best story eve...   \n",
       "3  tt0111161        True  **Yes, there are SPOILERS here**This film has ...   \n",
       "4  tt0111161        True  At the heart of this extraordinary movie is a ...   \n",
       "\n",
       "                                        plot_summary  \\\n",
       "0  Chronicles the experiences of a formerly succe...   \n",
       "1  Chronicles the experiences of a formerly succe...   \n",
       "2  Chronicles the experiences of a formerly succe...   \n",
       "3  Chronicles the experiences of a formerly succe...   \n",
       "4  Chronicles the experiences of a formerly succe...   \n",
       "\n",
       "                                       plot_synopsis  \n",
       "0  In 1947, Andy Dufresne (Tim Robbins), a banker...  \n",
       "1  In 1947, Andy Dufresne (Tim Robbins), a banker...  \n",
       "2  In 1947, Andy Dufresne (Tim Robbins), a banker...  \n",
       "3  In 1947, Andy Dufresne (Tim Robbins), a banker...  \n",
       "4  In 1947, Andy Dufresne (Tim Robbins), a banker...  "
      ]
     },
     "execution_count": 14,
     "metadata": {},
     "output_type": "execute_result"
    }
   ],
   "source": [
    "dataset.head()\n"
   ]
  },
  {
   "cell_type": "code",
   "execution_count": 15,
   "metadata": {},
   "outputs": [],
   "source": [
    "dataset.drop([\"movie_id\"], axis=1, inplace=True)"
   ]
  },
  {
   "cell_type": "code",
   "execution_count": 16,
   "metadata": {},
   "outputs": [
    {
     "data": {
      "text/html": [
       "<div>\n",
       "<style scoped>\n",
       "    .dataframe tbody tr th:only-of-type {\n",
       "        vertical-align: middle;\n",
       "    }\n",
       "\n",
       "    .dataframe tbody tr th {\n",
       "        vertical-align: top;\n",
       "    }\n",
       "\n",
       "    .dataframe thead th {\n",
       "        text-align: right;\n",
       "    }\n",
       "</style>\n",
       "<table border=\"1\" class=\"dataframe\">\n",
       "  <thead>\n",
       "    <tr style=\"text-align: right;\">\n",
       "      <th></th>\n",
       "      <th>is_spoiler</th>\n",
       "      <th>review_text</th>\n",
       "      <th>plot_summary</th>\n",
       "      <th>plot_synopsis</th>\n",
       "    </tr>\n",
       "  </thead>\n",
       "  <tbody>\n",
       "    <tr>\n",
       "      <th>0</th>\n",
       "      <td>True</td>\n",
       "      <td>In its Oscar year, Shawshank Redemption (writt...</td>\n",
       "      <td>Chronicles the experiences of a formerly succe...</td>\n",
       "      <td>In 1947, Andy Dufresne (Tim Robbins), a banker...</td>\n",
       "    </tr>\n",
       "    <tr>\n",
       "      <th>1</th>\n",
       "      <td>True</td>\n",
       "      <td>The Shawshank Redemption is without a doubt on...</td>\n",
       "      <td>Chronicles the experiences of a formerly succe...</td>\n",
       "      <td>In 1947, Andy Dufresne (Tim Robbins), a banker...</td>\n",
       "    </tr>\n",
       "    <tr>\n",
       "      <th>2</th>\n",
       "      <td>True</td>\n",
       "      <td>I believe that this film is the best story eve...</td>\n",
       "      <td>Chronicles the experiences of a formerly succe...</td>\n",
       "      <td>In 1947, Andy Dufresne (Tim Robbins), a banker...</td>\n",
       "    </tr>\n",
       "    <tr>\n",
       "      <th>3</th>\n",
       "      <td>True</td>\n",
       "      <td>**Yes, there are SPOILERS here**This film has ...</td>\n",
       "      <td>Chronicles the experiences of a formerly succe...</td>\n",
       "      <td>In 1947, Andy Dufresne (Tim Robbins), a banker...</td>\n",
       "    </tr>\n",
       "    <tr>\n",
       "      <th>4</th>\n",
       "      <td>True</td>\n",
       "      <td>At the heart of this extraordinary movie is a ...</td>\n",
       "      <td>Chronicles the experiences of a formerly succe...</td>\n",
       "      <td>In 1947, Andy Dufresne (Tim Robbins), a banker...</td>\n",
       "    </tr>\n",
       "  </tbody>\n",
       "</table>\n",
       "</div>"
      ],
      "text/plain": [
       "   is_spoiler                                        review_text  \\\n",
       "0        True  In its Oscar year, Shawshank Redemption (writt...   \n",
       "1        True  The Shawshank Redemption is without a doubt on...   \n",
       "2        True  I believe that this film is the best story eve...   \n",
       "3        True  **Yes, there are SPOILERS here**This film has ...   \n",
       "4        True  At the heart of this extraordinary movie is a ...   \n",
       "\n",
       "                                        plot_summary  \\\n",
       "0  Chronicles the experiences of a formerly succe...   \n",
       "1  Chronicles the experiences of a formerly succe...   \n",
       "2  Chronicles the experiences of a formerly succe...   \n",
       "3  Chronicles the experiences of a formerly succe...   \n",
       "4  Chronicles the experiences of a formerly succe...   \n",
       "\n",
       "                                       plot_synopsis  \n",
       "0  In 1947, Andy Dufresne (Tim Robbins), a banker...  \n",
       "1  In 1947, Andy Dufresne (Tim Robbins), a banker...  \n",
       "2  In 1947, Andy Dufresne (Tim Robbins), a banker...  \n",
       "3  In 1947, Andy Dufresne (Tim Robbins), a banker...  \n",
       "4  In 1947, Andy Dufresne (Tim Robbins), a banker...  "
      ]
     },
     "execution_count": 16,
     "metadata": {},
     "output_type": "execute_result"
    }
   ],
   "source": [
    "dataset.head()"
   ]
  },
  {
   "cell_type": "code",
   "execution_count": 17,
   "metadata": {},
   "outputs": [
    {
     "data": {
      "text/plain": [
       "(573906, 4)"
      ]
     },
     "execution_count": 17,
     "metadata": {},
     "output_type": "execute_result"
    }
   ],
   "source": [
    "dataset.shape"
   ]
  },
  {
   "cell_type": "code",
   "execution_count": null,
   "metadata": {
    "execution": {
     "iopub.execute_input": "2023-02-28T06:35:47.737585Z",
     "iopub.status.busy": "2023-02-28T06:35:47.737098Z",
     "iopub.status.idle": "2023-02-28T06:35:48.116699Z",
     "shell.execute_reply": "2023-02-28T06:35:48.115268Z",
     "shell.execute_reply.started": "2023-02-28T06:35:47.737548Z"
    }
   },
   "outputs": [],
   "source": []
  },
  {
   "cell_type": "code",
   "execution_count": 18,
   "metadata": {
    "execution": {
     "iopub.execute_input": "2023-02-28T06:35:48.118355Z",
     "iopub.status.busy": "2023-02-28T06:35:48.117979Z",
     "iopub.status.idle": "2023-02-28T06:35:48.129694Z",
     "shell.execute_reply": "2023-02-28T06:35:48.128281Z",
     "shell.execute_reply.started": "2023-02-28T06:35:48.118320Z"
    }
   },
   "outputs": [
    {
     "data": {
      "text/html": [
       "<div>\n",
       "<style scoped>\n",
       "    .dataframe tbody tr th:only-of-type {\n",
       "        vertical-align: middle;\n",
       "    }\n",
       "\n",
       "    .dataframe tbody tr th {\n",
       "        vertical-align: top;\n",
       "    }\n",
       "\n",
       "    .dataframe thead th {\n",
       "        text-align: right;\n",
       "    }\n",
       "</style>\n",
       "<table border=\"1\" class=\"dataframe\">\n",
       "  <thead>\n",
       "    <tr style=\"text-align: right;\">\n",
       "      <th></th>\n",
       "      <th>is_spoiler</th>\n",
       "      <th>review_text</th>\n",
       "      <th>plot_summary</th>\n",
       "      <th>plot_synopsis</th>\n",
       "    </tr>\n",
       "  </thead>\n",
       "  <tbody>\n",
       "    <tr>\n",
       "      <th>0</th>\n",
       "      <td>True</td>\n",
       "      <td>In its Oscar year, Shawshank Redemption (writt...</td>\n",
       "      <td>Chronicles the experiences of a formerly succe...</td>\n",
       "      <td>In 1947, Andy Dufresne (Tim Robbins), a banker...</td>\n",
       "    </tr>\n",
       "    <tr>\n",
       "      <th>1</th>\n",
       "      <td>True</td>\n",
       "      <td>The Shawshank Redemption is without a doubt on...</td>\n",
       "      <td>Chronicles the experiences of a formerly succe...</td>\n",
       "      <td>In 1947, Andy Dufresne (Tim Robbins), a banker...</td>\n",
       "    </tr>\n",
       "    <tr>\n",
       "      <th>2</th>\n",
       "      <td>True</td>\n",
       "      <td>I believe that this film is the best story eve...</td>\n",
       "      <td>Chronicles the experiences of a formerly succe...</td>\n",
       "      <td>In 1947, Andy Dufresne (Tim Robbins), a banker...</td>\n",
       "    </tr>\n",
       "    <tr>\n",
       "      <th>3</th>\n",
       "      <td>True</td>\n",
       "      <td>**Yes, there are SPOILERS here**This film has ...</td>\n",
       "      <td>Chronicles the experiences of a formerly succe...</td>\n",
       "      <td>In 1947, Andy Dufresne (Tim Robbins), a banker...</td>\n",
       "    </tr>\n",
       "    <tr>\n",
       "      <th>4</th>\n",
       "      <td>True</td>\n",
       "      <td>At the heart of this extraordinary movie is a ...</td>\n",
       "      <td>Chronicles the experiences of a formerly succe...</td>\n",
       "      <td>In 1947, Andy Dufresne (Tim Robbins), a banker...</td>\n",
       "    </tr>\n",
       "  </tbody>\n",
       "</table>\n",
       "</div>"
      ],
      "text/plain": [
       "   is_spoiler                                        review_text  \\\n",
       "0        True  In its Oscar year, Shawshank Redemption (writt...   \n",
       "1        True  The Shawshank Redemption is without a doubt on...   \n",
       "2        True  I believe that this film is the best story eve...   \n",
       "3        True  **Yes, there are SPOILERS here**This film has ...   \n",
       "4        True  At the heart of this extraordinary movie is a ...   \n",
       "\n",
       "                                        plot_summary  \\\n",
       "0  Chronicles the experiences of a formerly succe...   \n",
       "1  Chronicles the experiences of a formerly succe...   \n",
       "2  Chronicles the experiences of a formerly succe...   \n",
       "3  Chronicles the experiences of a formerly succe...   \n",
       "4  Chronicles the experiences of a formerly succe...   \n",
       "\n",
       "                                       plot_synopsis  \n",
       "0  In 1947, Andy Dufresne (Tim Robbins), a banker...  \n",
       "1  In 1947, Andy Dufresne (Tim Robbins), a banker...  \n",
       "2  In 1947, Andy Dufresne (Tim Robbins), a banker...  \n",
       "3  In 1947, Andy Dufresne (Tim Robbins), a banker...  \n",
       "4  In 1947, Andy Dufresne (Tim Robbins), a banker...  "
      ]
     },
     "execution_count": 18,
     "metadata": {},
     "output_type": "execute_result"
    }
   ],
   "source": [
    "dataset.head()"
   ]
  },
  {
   "cell_type": "code",
   "execution_count": 19,
   "metadata": {
    "execution": {
     "iopub.execute_input": "2023-02-28T06:35:48.131976Z",
     "iopub.status.busy": "2023-02-28T06:35:48.131514Z",
     "iopub.status.idle": "2023-02-28T06:35:48.142054Z",
     "shell.execute_reply": "2023-02-28T06:35:48.140316Z",
     "shell.execute_reply.started": "2023-02-28T06:35:48.131919Z"
    }
   },
   "outputs": [],
   "source": [
    "import re\n",
    "\n",
    "\n",
    "def clean_text(text):\n",
    "    \"\"\"\n",
    "    Applies some pre-processing on the given text.\n",
    "\n",
    "    Steps :\n",
    "    - Removing HTML tags\n",
    "    - Removing punctuation\n",
    "    - Lowering text\n",
    "    \"\"\"\n",
    "    \n",
    "    # remove HTML tags\n",
    "    text = re.sub(r'<.*?>', '', text)\n",
    "    \n",
    "    # remove the characters [\\], ['] and [\"]\n",
    "    text = re.sub(r\"\\\\\", \"\", text)    \n",
    "    text = re.sub(r\"\\'\", \"\", text)    \n",
    "    text = re.sub(r\"\\\"\", \"\", text)    \n",
    "    \n",
    "    # convert text to lowercase\n",
    "    text = text.strip().lower()\n",
    "    \n",
    "    # replace punctuation characters with spaces\n",
    "    filters='!\"\\'#$%&()*+,-./:;<=>?@[\\\\]^_`{|}~\\t\\n'\n",
    "    translate_dict = dict((c, \" \") for c in filters)\n",
    "    translate_map = str.maketrans(translate_dict)\n",
    "    text = text.translate(translate_map)\n",
    "\n",
    "    return text"
   ]
  },
  {
   "cell_type": "code",
   "execution_count": 20,
   "metadata": {
    "execution": {
     "iopub.execute_input": "2023-02-28T06:35:48.144745Z",
     "iopub.status.busy": "2023-02-28T06:35:48.143756Z",
     "iopub.status.idle": "2023-02-28T06:35:48.174528Z",
     "shell.execute_reply": "2023-02-28T06:35:48.173192Z",
     "shell.execute_reply.started": "2023-02-28T06:35:48.144702Z"
    }
   },
   "outputs": [
    {
     "data": {
      "text/plain": [
       "(573906, 3)"
      ]
     },
     "execution_count": 20,
     "metadata": {},
     "output_type": "execute_result"
    }
   ],
   "source": [
    "X = dataset.iloc[:, 1:]\n",
    "y = dataset.iloc[:, 0]\n",
    "X.shape"
   ]
  },
  {
   "cell_type": "code",
   "execution_count": 21,
   "metadata": {
    "execution": {
     "iopub.execute_input": "2023-02-28T06:35:48.176468Z",
     "iopub.status.busy": "2023-02-28T06:35:48.176126Z",
     "iopub.status.idle": "2023-02-28T06:35:48.662652Z",
     "shell.execute_reply": "2023-02-28T06:35:48.661376Z",
     "shell.execute_reply.started": "2023-02-28T06:35:48.176435Z"
    }
   },
   "outputs": [
    {
     "data": {
      "text/html": [
       "<div>\n",
       "<style scoped>\n",
       "    .dataframe tbody tr th:only-of-type {\n",
       "        vertical-align: middle;\n",
       "    }\n",
       "\n",
       "    .dataframe tbody tr th {\n",
       "        vertical-align: top;\n",
       "    }\n",
       "\n",
       "    .dataframe thead th {\n",
       "        text-align: right;\n",
       "    }\n",
       "</style>\n",
       "<table border=\"1\" class=\"dataframe\">\n",
       "  <thead>\n",
       "    <tr style=\"text-align: right;\">\n",
       "      <th></th>\n",
       "      <th>is_spoiler</th>\n",
       "    </tr>\n",
       "  </thead>\n",
       "  <tbody>\n",
       "    <tr>\n",
       "      <th>0</th>\n",
       "      <td>1.0</td>\n",
       "    </tr>\n",
       "    <tr>\n",
       "      <th>1</th>\n",
       "      <td>1.0</td>\n",
       "    </tr>\n",
       "    <tr>\n",
       "      <th>2</th>\n",
       "      <td>1.0</td>\n",
       "    </tr>\n",
       "    <tr>\n",
       "      <th>3</th>\n",
       "      <td>1.0</td>\n",
       "    </tr>\n",
       "    <tr>\n",
       "      <th>4</th>\n",
       "      <td>1.0</td>\n",
       "    </tr>\n",
       "    <tr>\n",
       "      <th>...</th>\n",
       "      <td>...</td>\n",
       "    </tr>\n",
       "    <tr>\n",
       "      <th>573901</th>\n",
       "      <td>0.0</td>\n",
       "    </tr>\n",
       "    <tr>\n",
       "      <th>573902</th>\n",
       "      <td>0.0</td>\n",
       "    </tr>\n",
       "    <tr>\n",
       "      <th>573903</th>\n",
       "      <td>0.0</td>\n",
       "    </tr>\n",
       "    <tr>\n",
       "      <th>573904</th>\n",
       "      <td>0.0</td>\n",
       "    </tr>\n",
       "    <tr>\n",
       "      <th>573905</th>\n",
       "      <td>0.0</td>\n",
       "    </tr>\n",
       "  </tbody>\n",
       "</table>\n",
       "<p>573906 rows × 1 columns</p>\n",
       "</div>"
      ],
      "text/plain": [
       "        is_spoiler\n",
       "0              1.0\n",
       "1              1.0\n",
       "2              1.0\n",
       "3              1.0\n",
       "4              1.0\n",
       "...            ...\n",
       "573901         0.0\n",
       "573902         0.0\n",
       "573903         0.0\n",
       "573904         0.0\n",
       "573905         0.0\n",
       "\n",
       "[573906 rows x 1 columns]"
      ]
     },
     "execution_count": 21,
     "metadata": {},
     "output_type": "execute_result"
    }
   ],
   "source": [
    "from sklearn.preprocessing import OneHotEncoder\n",
    "one_enc = OneHotEncoder()\n",
    "Y_temp = one_enc.fit_transform(y.values.reshape(-1,1))\n",
    "y = pd.DataFrame(Y_temp.toarray())\n",
    "y.drop(0, axis = 1, inplace = True)\n",
    "y.rename(columns = {1:'is_spoiler'}, inplace = True)\n",
    "y"
   ]
  },
  {
   "cell_type": "code",
   "execution_count": 22,
   "metadata": {
    "execution": {
     "iopub.execute_input": "2023-02-28T06:35:48.664620Z",
     "iopub.status.busy": "2023-02-28T06:35:48.664284Z",
     "iopub.status.idle": "2023-02-28T06:35:48.672071Z",
     "shell.execute_reply": "2023-02-28T06:35:48.670689Z",
     "shell.execute_reply.started": "2023-02-28T06:35:48.664588Z"
    }
   },
   "outputs": [
    {
     "data": {
      "text/html": [
       "<div>\n",
       "<style scoped>\n",
       "    .dataframe tbody tr th:only-of-type {\n",
       "        vertical-align: middle;\n",
       "    }\n",
       "\n",
       "    .dataframe tbody tr th {\n",
       "        vertical-align: top;\n",
       "    }\n",
       "\n",
       "    .dataframe thead th {\n",
       "        text-align: right;\n",
       "    }\n",
       "</style>\n",
       "<table border=\"1\" class=\"dataframe\">\n",
       "  <thead>\n",
       "    <tr style=\"text-align: right;\">\n",
       "      <th></th>\n",
       "      <th>is_spoiler</th>\n",
       "    </tr>\n",
       "  </thead>\n",
       "  <tbody>\n",
       "    <tr>\n",
       "      <th>0</th>\n",
       "      <td>1.0</td>\n",
       "    </tr>\n",
       "    <tr>\n",
       "      <th>1</th>\n",
       "      <td>1.0</td>\n",
       "    </tr>\n",
       "    <tr>\n",
       "      <th>2</th>\n",
       "      <td>1.0</td>\n",
       "    </tr>\n",
       "    <tr>\n",
       "      <th>3</th>\n",
       "      <td>1.0</td>\n",
       "    </tr>\n",
       "    <tr>\n",
       "      <th>4</th>\n",
       "      <td>1.0</td>\n",
       "    </tr>\n",
       "    <tr>\n",
       "      <th>...</th>\n",
       "      <td>...</td>\n",
       "    </tr>\n",
       "    <tr>\n",
       "      <th>573901</th>\n",
       "      <td>0.0</td>\n",
       "    </tr>\n",
       "    <tr>\n",
       "      <th>573902</th>\n",
       "      <td>0.0</td>\n",
       "    </tr>\n",
       "    <tr>\n",
       "      <th>573903</th>\n",
       "      <td>0.0</td>\n",
       "    </tr>\n",
       "    <tr>\n",
       "      <th>573904</th>\n",
       "      <td>0.0</td>\n",
       "    </tr>\n",
       "    <tr>\n",
       "      <th>573905</th>\n",
       "      <td>0.0</td>\n",
       "    </tr>\n",
       "  </tbody>\n",
       "</table>\n",
       "<p>573906 rows × 1 columns</p>\n",
       "</div>"
      ],
      "text/plain": [
       "        is_spoiler\n",
       "0              1.0\n",
       "1              1.0\n",
       "2              1.0\n",
       "3              1.0\n",
       "4              1.0\n",
       "...            ...\n",
       "573901         0.0\n",
       "573902         0.0\n",
       "573903         0.0\n",
       "573904         0.0\n",
       "573905         0.0\n",
       "\n",
       "[573906 rows x 1 columns]"
      ]
     },
     "execution_count": 22,
     "metadata": {},
     "output_type": "execute_result"
    }
   ],
   "source": [
    "y\n"
   ]
  },
  {
   "cell_type": "code",
   "execution_count": 23,
   "metadata": {
    "execution": {
     "iopub.execute_input": "2023-02-28T06:35:48.674729Z",
     "iopub.status.busy": "2023-02-28T06:35:48.673678Z",
     "iopub.status.idle": "2023-02-28T06:35:48.693920Z",
     "shell.execute_reply": "2023-02-28T06:35:48.692793Z",
     "shell.execute_reply.started": "2023-02-28T06:35:48.674691Z"
    }
   },
   "outputs": [],
   "source": [
    "Y_col = 'is_spoiler'\n",
    "X_cols = dataset.loc[:, dataset.columns != Y_col].columns"
   ]
  },
  {
   "cell_type": "code",
   "execution_count": 24,
   "metadata": {
    "execution": {
     "iopub.execute_input": "2023-02-28T06:35:48.696521Z",
     "iopub.status.busy": "2023-02-28T06:35:48.695810Z",
     "iopub.status.idle": "2023-02-28T06:35:48.708026Z",
     "shell.execute_reply": "2023-02-28T06:35:48.706793Z",
     "shell.execute_reply.started": "2023-02-28T06:35:48.696470Z"
    }
   },
   "outputs": [
    {
     "data": {
      "text/html": [
       "<div>\n",
       "<style scoped>\n",
       "    .dataframe tbody tr th:only-of-type {\n",
       "        vertical-align: middle;\n",
       "    }\n",
       "\n",
       "    .dataframe tbody tr th {\n",
       "        vertical-align: top;\n",
       "    }\n",
       "\n",
       "    .dataframe thead th {\n",
       "        text-align: right;\n",
       "    }\n",
       "</style>\n",
       "<table border=\"1\" class=\"dataframe\">\n",
       "  <thead>\n",
       "    <tr style=\"text-align: right;\">\n",
       "      <th></th>\n",
       "      <th>review_text</th>\n",
       "      <th>plot_summary</th>\n",
       "      <th>plot_synopsis</th>\n",
       "    </tr>\n",
       "  </thead>\n",
       "  <tbody>\n",
       "    <tr>\n",
       "      <th>123552</th>\n",
       "      <td>i love the show, and first saw the show i reme...</td>\n",
       "      <td>This television drama is about the two Winches...</td>\n",
       "      <td></td>\n",
       "    </tr>\n",
       "    <tr>\n",
       "      <th>441701</th>\n",
       "      <td>This is testimony to how much more sophisticat...</td>\n",
       "      <td>Rancher Dan Evans heads into Bisbee to clear u...</td>\n",
       "      <td>The legendary outlaw, Ben Wade (Russell Crowe)...</td>\n",
       "    </tr>\n",
       "    <tr>\n",
       "      <th>274248</th>\n",
       "      <td>I didnt know what to expect from bright but i ...</td>\n",
       "      <td>In Los Angeles, humans live with orcs and elve...</td>\n",
       "      <td>This film is set in an alternate reality of th...</td>\n",
       "    </tr>\n",
       "    <tr>\n",
       "      <th>505997</th>\n",
       "      <td>Well now. I just saw this movie for the first ...</td>\n",
       "      <td>Frozen in 1996, Simon Phoenix, a convicted cri...</td>\n",
       "      <td>In an alternate 1996, Los Angeles has descende...</td>\n",
       "    </tr>\n",
       "    <tr>\n",
       "      <th>572457</th>\n",
       "      <td>The animation is superb and only occasionally ...</td>\n",
       "      <td>In New York City, you would come across a smal...</td>\n",
       "      <td>The film opens with Fredrick and Eleanor Littl...</td>\n",
       "    </tr>\n",
       "    <tr>\n",
       "      <th>...</th>\n",
       "      <td>...</td>\n",
       "      <td>...</td>\n",
       "      <td>...</td>\n",
       "    </tr>\n",
       "    <tr>\n",
       "      <th>371403</th>\n",
       "      <td>In The Butterfly Effect, Ashton Kutcher stars ...</td>\n",
       "      <td>Evan Treborn grows up in a small town with his...</td>\n",
       "      <td>In the year 1998, Evan Treborn (Ashton Kutcher...</td>\n",
       "    </tr>\n",
       "    <tr>\n",
       "      <th>491263</th>\n",
       "      <td>Compare this story to Errol Flynn's Adventures...</td>\n",
       "      <td>After being captured by Turks during the Crusa...</td>\n",
       "      <td>Robin of Locksley (Kevin Costner), an English ...</td>\n",
       "    </tr>\n",
       "    <tr>\n",
       "      <th>470924</th>\n",
       "      <td>After watching this flick with low expectation...</td>\n",
       "      <td>Two soldiers stationed in Kazahkstan (Captain ...</td>\n",
       "      <td>The film opens in France, in 1641. The Scotsma...</td>\n",
       "    </tr>\n",
       "    <tr>\n",
       "      <th>491755</th>\n",
       "      <td>Having seen the original first (and loved it) ...</td>\n",
       "      <td>Sam Bowden (Nick Nolte)is a small-town corpora...</td>\n",
       "      <td>Danielle Bowden (Juliette Lewis) narrates her ...</td>\n",
       "    </tr>\n",
       "    <tr>\n",
       "      <th>128037</th>\n",
       "      <td>13 Reasons Why is an amazing series that shows...</td>\n",
       "      <td>Thirteen Reasons Why, based on the best-sellin...</td>\n",
       "      <td></td>\n",
       "    </tr>\n",
       "  </tbody>\n",
       "</table>\n",
       "<p>459124 rows × 3 columns</p>\n",
       "</div>"
      ],
      "text/plain": [
       "                                              review_text  \\\n",
       "123552  i love the show, and first saw the show i reme...   \n",
       "441701  This is testimony to how much more sophisticat...   \n",
       "274248  I didnt know what to expect from bright but i ...   \n",
       "505997  Well now. I just saw this movie for the first ...   \n",
       "572457  The animation is superb and only occasionally ...   \n",
       "...                                                   ...   \n",
       "371403  In The Butterfly Effect, Ashton Kutcher stars ...   \n",
       "491263  Compare this story to Errol Flynn's Adventures...   \n",
       "470924  After watching this flick with low expectation...   \n",
       "491755  Having seen the original first (and loved it) ...   \n",
       "128037  13 Reasons Why is an amazing series that shows...   \n",
       "\n",
       "                                             plot_summary  \\\n",
       "123552  This television drama is about the two Winches...   \n",
       "441701  Rancher Dan Evans heads into Bisbee to clear u...   \n",
       "274248  In Los Angeles, humans live with orcs and elve...   \n",
       "505997  Frozen in 1996, Simon Phoenix, a convicted cri...   \n",
       "572457  In New York City, you would come across a smal...   \n",
       "...                                                   ...   \n",
       "371403  Evan Treborn grows up in a small town with his...   \n",
       "491263  After being captured by Turks during the Crusa...   \n",
       "470924  Two soldiers stationed in Kazahkstan (Captain ...   \n",
       "491755  Sam Bowden (Nick Nolte)is a small-town corpora...   \n",
       "128037  Thirteen Reasons Why, based on the best-sellin...   \n",
       "\n",
       "                                            plot_synopsis  \n",
       "123552                                                     \n",
       "441701  The legendary outlaw, Ben Wade (Russell Crowe)...  \n",
       "274248  This film is set in an alternate reality of th...  \n",
       "505997  In an alternate 1996, Los Angeles has descende...  \n",
       "572457  The film opens with Fredrick and Eleanor Littl...  \n",
       "...                                                   ...  \n",
       "371403  In the year 1998, Evan Treborn (Ashton Kutcher...  \n",
       "491263  Robin of Locksley (Kevin Costner), an English ...  \n",
       "470924  The film opens in France, in 1641. The Scotsma...  \n",
       "491755  Danielle Bowden (Juliette Lewis) narrates her ...  \n",
       "128037                                                     \n",
       "\n",
       "[459124 rows x 3 columns]"
      ]
     },
     "execution_count": 24,
     "metadata": {},
     "output_type": "execute_result"
    }
   ],
   "source": [
    "from sklearn.model_selection import train_test_split\n",
    "X_train, X_test, y_train, y_test = train_test_split(X[X_cols], y[Y_col], test_size = 0.2, random_state = 1)\n",
    "\n",
    "#X_val, y_val = train_test_split(X_train[X_cols], y_train, test_size = 0.2, random_state = 1)\n",
    "X_train"
   ]
  },
  {
   "cell_type": "code",
   "execution_count": 25,
   "metadata": {},
   "outputs": [
    {
     "data": {
      "text/plain": [
       "array([[\"i love the show, and first saw the show i remember in November i saw the episode Home and after that i was hooked i haven't been able to stop talking about it, the show is awesome and i can't wait for all of the new episodes i think the second season is going to be the greatest. Jared Padalecki and Jensen Ackles are perfect for these characters they make it look so real they are great actors and hot and the brotherly love is so sweet and it's funny. this show has anything you could ever want in a series,drama,horror,fantasy,comedy,romance etc and can't forget the hot guys. i love it.... it is the greatest show ever created ugh i love it\",\n",
       "        'This television drama is about the two Winchester brothers, Sam and Dean, who were raised by their father, John, to hunt and kill all things that go \"bump in the night\" after his wife, Mary, was murdered by an evil supernatural being when the boys were young. 22 years later the brothers set out on a journey, fighting evil along the way, to find their recently missing father who, when they finally meet up with, reveals he knows what killed their mother, a demon, and has found a way to track and kill it. Meanwhile, Sam starts to develop frightening abilities that include death visions, visions of people dying before it actually happens. These visions are somehow connected to the demon who murdered his mother and its mysterious plans that seem to be all about Sam. When their father dies striking a deal with the very same devil that had killed his wife, the brothers, now alone and without their mentor, are determined to finish the crusade their father started. But disturbing revelations ...                Written by\\nRachel B.',\n",
       "        ''],\n",
       "       [\"This is testimony to how much more sophisticated films have gotten since the 50's. Christian Bale and Russell Crowe exude more energy between each other with only an intonation or without even a line in only a look, that volumes are conveyed about the relationship between these two characters. The screen writers have tweaked the script just enough to elevate a dull 50's western to a classic film about a man's need for acceptance from his son and honor for himself. A LOT of Action and surprising stunts. An edge of your seat thriller, unexpected plot and a nice twist at the ending. It has all the makings of a sequel and I'm anticipating it's arrival .. Maybe the young boy comes into play in the next one. That would be awesomeThe characters are not black and white. They are real, and have human weaknesses as well as strengths. This is not a great western. It is a great picture!\",\n",
       "        \"Rancher Dan Evans heads into Bisbee to clear up issues concerning the sale of his land when he witnesses the closing events of a stagecoach robbery led by famed outlaw Ben Wade. Shortly thereafter, Wade is captured by the law in Bisbee and Evans finds himself one of the escorts who will take Wade to the 3:10 to Yuma train in Contention for the reward of $200. Evans's effort to take Wade to the station is in part an effort to save his land but also part of an inner battle to determine whether he can be more than just a naive rancher in the eyes of his impetuous and gunslinging son William Evans. The transport to Contention is hazardous and filled with ambushes by Indians, pursuits by Wade's vengeful gang and Wade's own conniving and surreptitious demeanor that makes the ride all the more intense.                Written by\\ncommanderblue\",\n",
       "        'The legendary outlaw, Ben Wade (Russell Crowe) and his gang have just robbed an armed stage coach carrying the Southern Pacific Railroads payroll. They kill everyone on-board except Pinkerton guard, Byron McElroy (Peter Fonda) whom Charlie Prince (Ben Foster), Wade\\'s right hand man, shoots in the belly. A poor rancher Dan Evans (Christian Bale) and his two sons, William (Logan Lerman) and Mark (Benjamin Petry), find McElroy and take him to Bisbee, Arizona to find a doctor. Ben Wade separates from his gang and goes to meet with lovely Emma Nelson (Vinessa Shaw) in a nearby saloon, but learning of his presence in town, the sheriff immediately surrounds the building. Dan distracts Ben Wade, who is captured without a shot being fired. Railroad representative Grayson Butterfield (Dallas Roberts) asks for paid volunteers to join McElroy\\'s posse to take Wade to the train station in the town of Contention three days away. The train is due at 3:10, and they must put Wade on the train\\'s prison car bound for Yuma. Once Wade arrives in Yuma, he will receive a quick trial in Federal Court and be hanged. Dan Evans, desperately needing money to save his farm, agrees to help transport Wade to Contention but he must be paid $200. The other paid volunteers who join the posse are Tucker (Kevin Durand) and Doc Potter (Alan Tudyk), the town\\'s veterinarian. Unfortunately for the posse, Charlie Prince sees what has happened to Wade, and he goes after the rest of the gang to help liberate Wade.Despite a deception to fool the gang, the odds move in their favour, and in the end it\\'s Dan\\'s desire to impress his sons that means getting him on the train becomes a personal battle of wills.In a hotel in Contention City, where the remains of the posse hide out, Wade continues to bargain for his freedom. Despite very tempting offers, Evans ignores his pleas. Wade\\'s gang rides into town, and, after locating their boss, recruit as many of the townspeople as possible with an offer of $200 for the successful killing of any member of Evans\\' posse. The sheriff and his men, previously offering help to Evans, decide to surrender. They are gunned down, and Butterfield, terrified, offers Evans the $200 to just walk away. Evans, realizing the parallels between his current situation and the one in which the government paid for his leg lost in the Civil War, says, \"It\\'s funny, if you think about it - which I have been lately - is...they weren\\'t paying me to walk away. They were paying me so they could walk away.\" Butterfield promises to see Evans\\' son home, but Evans want Butterfield to promise more than that. Butterfield is convinced to pay off Evans\\' debts, make sure his water flows, and that he will give $1000 dollars to his wife on Butterfield\\'s return. Butterfield agrees, and he and William hold up in a room down the hall.When the time for action, Evans brings Wade outside and they run for the station. Wade\\'s gang pursues them relentlessly, and they barely make it to the station in one piece. At the very moment that the protagonist Dan Evans is putting Ben Wade onto the prison train, Wade\\'s gang shoots the rancher to death. Ben Wade takes his gun from his right-hand man Charlie Prince and, in an act of vengeance for the rancher who had earned his respect, murders every man of his gang. Ben Wade boards the prison train as a final act of symbolic tribute to the rancher who died getting him there, and whistles for his horse as the train drives into the distance.'],\n",
       "       ['I didnt know what to expect from bright but i waited eagerly for the netflix release.i was not dissapointed. the premise of elves,orcs, humans and assorted mythical beings living in contemporary LA was interesting but not fully explored neither were some of the lesser CHARACTERS.i was left feel that this would be an amazing series which would allow for more in depth characterisation.the moments between Nick and Ward in the car were some of the best the movie had to offer in terms of showing us the day to day aspects of all these different communities rubbing along the movie would have been more engaging with more of this. overall i liked it very much it was imaginative,well acted and a breath of fresh air, im sick of zombies vampires and aliens. i hope we get a sequel and soon.',\n",
       "        'In Los Angeles, humans live with orcs and elves in a world where fantasy creatures do exist. LAPD police officer Dayl Ward is the first human cop having the orc police officer Nick Jakoby as a partner. When Ward is shot by an orc and Jakoby does not capture the shooter, he questions whether Jakoby lets the fellow orc escape. During a patrol, Ward and Jakoby arrest a man that tells that there is a prophecy and Ward is blessed. Meanwhile, Internal Affairs press Ward to find the truth about the escape of the shooter so that they can fire Jakoby. The magic department of the FBI interrogates the man that belongs to the terrorist Shield of Light group and they learn that they are preparing the return of the Dark Lord that will destroy the world. Ward and Jakoby are summoned to attend a disturbance and they stumble upon a Shield of Light safehouse where they arrest the elf Tikka and her magic wand. Soon they learn that Tikka is hunted down by the evil and powerful elf Leilah and her gang and...                Written by\\nClaudio Carvalho, Rio de Janeiro, Brazil',\n",
       "        'This film is set in an alternate reality of the city of Los Angeles, where humans co-exist with orcs, elves, and fairies. Officer Daryl Ward (Will Smith) is out on the streets with his partner, Nick Jakoby (Joel Edgerton), who is the world\\'s first orc cop. Jakoby is grabbing a burrito when an orc gangster emerges from a shop and blasts Ward with a shotgun.Some time later, Ward is ready to go back to the force. He is struggling to keep his house that he shares with his wife Sherri (Dawn Olivieri) and daughter Sophia (Scarlet Spencer). Sophia hates that her dad is a cop because she worries he\\'ll get killed. They see a video from Joe Rogan interviewing an orc as they discuss Jakoby being on the force. The other orcs hate Jakoby as they consider him a traitor. Ward dislikes having him as a partner because he blames Jakoby for him getting shot. Sherri then makes him go outside to deal with a fairy that\\'s attacking the bird feeder. Ward takes a broom and whacks the fairy to death.Ward and Jakoby ride together, with Ward openly blaming Jakoby for the shooting incident. After driving through the wealthy Elftown neighborhood, they arrive at work, where a few rotten cops - Pollard (Ike Barinholtz), Hicks (Matt Gerald), and Brown (Joseph Piccuirro) - mock Jakoby when he\\'s not around. When Ward is assigned to be on patrol with Jakoby for the day, he protests to Sergeant Ching (Margaret Cho), but she doesn\\'t care for his complaints.Ward and Jakoby head downtown to handle a disturbance, meeting with Sheriff Rodriguez (Jay Hernandez). A crazy man named Serling (Chris Browning) is waving a sword around and yelling nonsense. With the officers drawing their weapons, Serling surrenders and is taken into custody. On the ride back to the precinct, Serling pukes in the back of the car before starting to speak Orkish to Jakoby, saying he has a message from an organization called the Shield of Light, telling him to \"remember the old ways\", and how a prophecy has chosen him, and that Ward is blessed.Ward is later approached by Captain Perez (Andrea Navedo), along with two men - Yamahara (Kenneth Choi) and Arkashian (Bobby Naderi) - who order Ward to record Jakoby admitting that he let Ward\\'s shooter get away.Serling is interrogated by an elf FBI agent, Kandomere (Edgar Ramirez), and his partner Montehugh (Happy Anderson). The agents ask Serling what he knows about two elf sisters - Leilah (Noomi Rapace) and Tikka (Lucy Fry). Serling knows that Leilah is a dark elf, part of the Inferni clan that wants to resurrect the Dark Lord, an evil entity that was defeated 2,000 years earlier by the Nine Armies. Leilah and her minions want to bring him back to unleash darkness upon the world with the use of three magic wands. Leilah is a \"Bright\", meaning she can wield a wand without it destroying her. Montehugh says they need to find Tikka in order to set a trap for Leilah.On the night patrol, Ward tries to get Jakoby to confess to the incident, when they are alerted to something going on at a house on Abrams Street. They arrive and are shot at by an unseen assailant. After a shootout, the officers kill the assailant. They head inside the house and find dead bodies, including a few that look like they were burnt alive. The officers find Tikka, who is in possession of the wand.Ward calls in Ching and the other cops in regards to the wand. They want the wand for themselves, and they order Ward to go along with it and kill Jakoby, or he dies as well. Ward goes outside to do the job, but first he presses Jakoby at gunpoint on what really happened when he got shot. Jakoby admits he did let the shooter get away, but it was because he lost him in a crowd. He thought he cornered the guy in an alley, but it was just a young orc spray-painting the side of a building. Knowing that the human officers would kill the kid on the spot, Jakoby let him get away on a fire escape. Moments later, Ching and the officers step outside. Ward spins around quickly and shoots them all dead, but Pollard is the only one hanging on for his life. Jakoby attempts to arrest Ward until they are approached by a gang led by wheelchair-bound Poison (Enrique Murciano), who knows about the wand and wants it for himself so that he can walk again. Ward and Jakoby take Tikka and head into their van as the gangsters start attacking.The officers drive away as the gangsters pursue them. The gangsters shoot at them, but Ward and Jakoby are able to shake most of them off. They find a place to hide briefly until more gangsters come after them. One of them finds the wand and tries to grab it, but it causes him to explode and kill those around him.Leilah and her minions arrive at the Abrams house and find Pollard dying before Leilah finishes the job. She then finds another Inferni elf, Larika (Nadia Grey), who is stuck to the walls. She tells Leilah that Tikka got away with the wand, and she slashes Larika\\'s throat. The elves then come across a family that they kill for more information on the wand\\'s whereabouts. Kandomere and Montehugh later come upon the crime scene at the Abrams house, and Kandomere knows Leilah has lost the wand, making her vulnerable.Ward, Jakoby, and Tikka walk through a sleazy orc/human strip club. Poison and his gang find them and once again threaten them for the wand, but Leilah and her minions show up and slaughter Poison and his gang. Another shootout happens, forcing the trio to run again. They run into a nearby convenience store where they find a place to hide. While tending to their wounds in a bathroom, Ward and Jakoby discuss their relationship. Although Ward doesn\\'t think of them as friends, he does tell Jakoby that he shouldn\\'t want to be like him, despite Jakoby previously stating he wishes he were because he sees Ward as fearless.Rodriguez shows up to the store after hearing about Ward killing the officers. He orders Ward to cuff Jakoby since everyone suspects him anyway, and Jakoby willingly relents. Rodriguez is then shot dead as the elves drive up and crash through the store, shooting at the cops. The trio fight back, shooting at the elves before getting away.The trio are then found by a group of orc gangsters belonging to the Fogteeth clan. After Ward mocks them, they get beaten and dragged to a church that serves as their lair. The orcs bring them to their leader, Dorghu (Brad William Henke). He wants the wand as well, and he mocks Jakoby for being unblooded (accepted by the other orcs as one of their own). After the cops refuse to give up the wand, Dorghu orders them to be executed. The guards drag Ward and Jakoby to a pit, and Dorghu orders his son Mikey (Brandon Larracuente) to execute Jakoby. However, Mikey can\\'t bring himself to do so, because he is the young orc that Jakoby let get away. Dorghu allows Mikey to go home, and Dorghu shoots Jakoby, letting his body fall into the pit. Tikka then pulls out the wand and uses it to resurrect Jakoby and raise his body up. The other orcs are astonished and kneel before Jakoby, believing him to be the one the prophecy spoke of. The three then leave.Tikka then speaks English for the first time, now that she knows she can trust Ward and Jakoby. She explains that she took the wand because she knew Leilah wanted to bring back the Dark Lord, and she had sent Larika to kill her, but Tikka took the wand herself. The use of the wand took a toll on her, and it\\'s starting to kill her. She tells them that the Shield of Light can help them if they take her to a pool back at the Abrams house.Ward and Jakoby bring Leilah back to the house. Leilah and the other dark elves show up and battle the cops. Ward and Jakoby manage to kill the elves, and Jakoby appears to shoot Leilah dead. They then take Tikka to the pool beneath a tree, but Leilah emerges, still alive. When she tries to get the wand, Ward grabs it himself. It starts to glow, and he doesn\\'t explode, meaning he is a Bright. Tikka tells him a war word to cast a spell, which Ward repeats, causing the wand to blast Leilah to smithereens. Outside, authorities arrive just as they witness the explosion. Ward and Jakoby look for Tikka, but she\\'s gone.The officers are in the hospital and are approached by Kandomere and Montehugh. Although Jakoby tries to explain everything that happened, Ward denies that there was ever a wand, and that gangsters killed the corrupt officers.In the final scene, Ward and Jakoby are commemorated for their heroism. Pollard, Brown, Hicks, and Ching are also honored alongside Rodriguez, with Ward expressing his hatred for that fact. Jakoby tells him to let it go, since at least they know the truth. Sherri and Sophia are there to support Ward, while he and Jakoby notice Tikka walking among the crowd, smiling at them.'],\n",
       "       ...,\n",
       "       [\"After watching this flick with low expectations, I'd have to say it was marvelous.The Cobras were competent foes and the characters were interesting. In the short space available for character development between the vast action sequences, the film manages to give interesting tidbits of character personality. Albeit, some casualties in terms of character development are unavoidable in one-and-a-half-hour action movies.The thing that strikes me the most is that the protagonists aren't all American. Most astonishingly, their base is located outside of North America. And the team itself seems to be international (although most accents are distinctively American in vernacular). Given the current political climate and whatnot, those aspects makes this film accessible for me as a non-American and that's just lovely.My two main gripes about the movie is that it's too short and the ending is a bit like a car crash. Suffice to say, the antagonists didn't go down elegantly. But that's not too much of a surprise, since the comics and cartoons go about it the same way: good triumphs over evil and the baddies both badly lose and are sore losers.I'm surprised I like this film more than Star Trek. Sounds blasphemous, I know! But then again, it's got the right ingredients to stroke the male appetite: tits, tech, and torrent.\",\n",
       "        'Two soldiers stationed in Kazahkstan (Captain Duke Hauser and his partner \"Ripcord\") are ordered to transport special warheads created by MARS, an arms\\' manufacturer controlled by James McCullen. When they are attacked by thieves (led by Anastasia DeCobray, with whom Duke has history), they are saved by a top secret, international special forces unit known as \"G.I. Joe\". The leader of G.I. Joe, General Abernathy (or Hawk) is on the trail of the thieves: an evil organization called \"Cobra\". While Duke and Ripcord train to join the Joes, McCullen (\"Destro\") is secretly working for Cobra and plotting to recapture his metal-eating \"Nanomite\" warheads. Duke and Ripcord (with help from Heavy Duty, Snake Eyes, and the rest of the Joes) must prove that they are Real American Heroes -- by stopping the launch of these warheads before Cobra uses them to take over the world.                Written by\\nJohn Wiggins',\n",
       "        'The film opens in France, in 1641. The Scotsman Klan McCullen has been accused of selling weaponry to both the Scots and French. Rather than being executed for treason, the jury brands his face with a white-hot mask in order to humiliate him. In the near future, weapons expert James McCullen (Christopher Eccleston) has created a nanotechnology-based weapon capable of destroying an entire city. His company MARS sells four warheads to NATO, and the U.S. Army is tasked with delivering the warheads. Duke (Channing Tatum) and Ripcord (Marlon Wayans) are delivering the warheads when they are ambushed by the Baroness (Sienna Miller), who Duke recognized to be his ex-fiancee Ana Lewis. Duke and Ripcord are rescued by Scarlett (Rachel Nichols), Snake Eyes (Ray Park) and Heavy Duty (Adewale Akinnuoye-Agbaje). They take the warheads to The Pit, G.I. Joe\\'s command center in North Africa, and upon arriving rendezvous with General Hawk (Dennis Quaid), the head of the G.I. Joe Team. Hawk takes command of the war-heads and excuses Duke and Ripcord, only to be convinced to have them join his group after Duke reveals that he knows the Baroness.McCullen is revealed to be using the same nanotechnology to build an army of soldiers with the aid of the Doctor (Joseph Gordon-Levitt), planning on using the warheads to bring panic and bring about a new world order. Using a tracking device, McCullen locates the G.I. Joe base and sends Storm Shadow (Lee Byung-hun) and the Baroness to retrieve the warheads with assistance from Zartan (Arnold Vosloo), inflicting casualties on several G.I. Joe soldiers. After a fight, Storm Shadow and the Baroness retrieve the warheads and take them to Baron DeCobray, the Baroness\\'s husband, for him to weaponize and use them to destroy the Eiffel Tower to serve as a showing of the warhead\\'s destructive power. Making their way to Paris, the Joes pursue them through the streets but are unsuccessful in stopping them from launching the missile. Duke manages to hit the kill switch, but in doing so he is captured and taken to McCullen\\'s base under the Arctic.G.I. Joe locates the secret base and fly there as McCullen loads three missiles with nano-mite warheads. After Snake Eyes takes out one, Ripcord pursues the remaining missiles in a prototype Night Raven jet while Scarlett and her group infiltrate the base. While Scarlett and Snake Eyes attempt to shut down the Arctic base, with Heavy Duty leading an attack on Cobra\\'s forces, Duke learns that the Doctor is Rex Lewis, Ana\\'s brother believed to have been killed on a mission led by Duke four years ago. He was trapped in a bunker with Doctor Mindbender (Kevin O\\'Connor), disfigured in the blast which everyone presumed had killed him. The Baroness tries to free Duke but the Doctor reveals he has implanted her with nano-mites which has put her under his control for the past four years, admitting his amazement that she is resisting the programming. Attempting to kill Duke, McCullen ends up being facially burned as he flees with Rex to an escape vessel. Duke and the Baroness pursue him while the Joes fall back when Rex activated the base\\'s self destruct sequence.Rex then heals McCullen\\'s burned face with nano-mites, encasing it in silver as he christens McCullen \"Destro\" and assumes the identity of Cobra Commander before they are captured by G.I. Joe soon after. On board the supercarrier USS Flagg, Baroness is placed in protective custody until they can remove the nano-mites from her body. Meanwhile, Zartan, having been earlier operated on by Rex, infiltrates the White House during the missile crisis and assumes the identity of the President of the United States (Jonathan Pryce).'],\n",
       "       [\"Having seen the original first (and loved it) and being skeptical of remakes even with such prestigious directors as Scorcese at the helm, I must I say I was pleasantly surprised with how much I enjoyed this new version of the 1962 classic. In this version Cady (De Niro) is even more violent and deviant and even Bowden (Nolte) is flawed, as seen by his less than stellar defense of Cady, his dysfunctional family life, and his dalliance with a co-worker. It is interesting to note that Cady's behavior is totally contrary to his professed devotion to Scripture. Could Scorcese be inferring that many openly devout Christians are really perverse monsters like Cady? The acting is superb and a real treat is provided in the form of cameos from Balsam, Mitchum and especially Peck as a smarmy lawyer. The only reason I don't give this film a perfect score is that as good as it is it is still a remake and in my opinion the ending while competent imparts a slight feeling of letdown. Still this an absolutely riveting film, 8/10.\",\n",
       "        'Sam Bowden (Nick Nolte)is a small-town corporate attorney/\"Leave It to Beaver\" type family-man. Max Cady (Robert De Niro) is a tattooed, cigar-smoking, bible-quoting, rapist. What do they have in common? Fourteen years, ago Sam was a public defender assigned to Max Cady\\'s rape trial, and he made a serious error: he hid a document from his illiterate client that could have gotten him acquitted. Now, the cagey, bibliophile Cady has been released, and he intends to teach Sam Bowden and his family a thing or two about loss.                Written by\\nJames Craver',\n",
       "        \"Danielle Bowden (Juliette Lewis) narrates her thoughts about the Cape Fear River, not wanting to relive the past. The past begins with, Max Cady (Robert De Niro) being released from prison. His body is covered with tattoos about vengeance. Across town, Danielle helps her mom Leigh (Jessica Lange) with her home business, and Sam Bowden (Nick Nolte) exits a courthouse, talking to Claude Kersek (Joe Don Baker). Their lives later intersect at a movie theater, where Max is behaving badly and smoking.Sam plays racquetball with Lori Davis (Illeana Douglas), but is concerned over his image. Max introduces himself and reminds Sam that he's out of prison, who he blames Sam for his incarceration. Later, Leigh sees Max watching the house at night.The next day, Sam asks Kersek for options. Sam confesses that he didn't defend Max during a case because he was disgusted by the report. Max confronts Sam repeatedly, making suggestive remarks about Sam's family. Sam offeres to pay him off, but Max says no. Max has learned law in prison, and knows how to avoid prosecution. Later, Sam finds that his dog has been poisoned. He suspects Max, but has no proof. Leigh is distraught.Sam talks to Lieutenant Elgart (Robert Mitchum), who tries to harass Max into leaving. Sam punches Max, but Max doesn't respond. Later, Max picks up Lori at a bar and attacks her. Sam goes to see her in the hospital, but she's too scared and embarrassed to testify against Max. Kersey advises Sam to try and trap Max, but Sam refuses.Sam and Leigh argue over Sam's relationship with Lori. Kersey tells Max he should leave, but Max says he's within the limits of the law. Max continues to harass Sam and his family. Kersey offers to hire thugs to beat up Max, but Sam doesn't want to break the law. Max calls Danielle, pretending to be her Drama teacher, and arranges to see her alone in school. They kiss, and later Sam realizes something happened, and arranges for thugs to attack Max. Max turns the table on them and knows Sam was behind it. Danielle seems to be in love with Max.Max hires lawyer Lee Heller (Gregory Peck) to represent him, and has a tape of Sam threatening him. The judge grants a restraining order against Sam, and threatens to disbar him. Sam asks Kersek for a gun, and Kersek realizes that the disbarment meeting (in Atlanta) is a chance for Max to catch Sam's family without Sam. They arrange a trap for Max.Kersek wires the house with monofilament wire, but Max impersonates the maid and strangles him. Sam goes berserk, but Leigh stops him from chasing after Max. The Bowdens flee town, but Max is hiding under their vehicle. Sam and his family rent a boat on Cape Fear River, and Max follows them. Max grabs Sam and cuts the rope mooring them to the shore. He grabs Sam and ties him up, then approaches the girls. Danielle squirts Max with lighter fluid as he lights a cigar, and Max jumps overboard.Max climbs on board and conducts a mock trial, trying to get Sam to admit that he hid evidence during Max's trial. Max orders the girls to undress, but the boat, gryating wildly in the river, knocks Max over. The girls jump off, but Max grabs Sam and they struggle. Sam handcuffs Max to a railing and gets off the boat before it falls apart. Sam and Max fight on the remains of the boat, Max laughing hysterically. Before Sam can kill him, the boat sinks, taking Max with it.The family regroups, and Danielle narrates the ending.\"],\n",
       "       [\"13 Reasons Why is an amazing series that shows the true sadness of suicide, but with more edgy suspense. Not only did Hannah effect the people she loved when she left but she effected the people she hated too. I love how the author goes from past to present. By showing the tapes as memories the author portrays the emotion and terrible experiences of high school first hand through Hannah's eyes even though she is no longer with us. It also helps that the author puts a cut on Clay's forehead to show that he is only remembering something rather than being there first person. I have read the book, and I like the show much better. I like how the show goes more in depth of Hannah's life and higher roles of other characters. In the book not many of the characters are mentioned in depth, but in the show almost everyone who is mentioned has a backstory that is mentioned. I would definitely watch this again and again and again.\",\n",
       "        \"Thirteen Reasons Why, based on the best-selling books by Jay Asher, follows teenager Clay Jensen (Dylan Minnette) as he returns home from school to find a mysterious box with his name on it lying on his porch. Inside he discovers a group of cassette tapes recorded by Hannah Baker (Katherine Langford) -his classmate and crush-who tragically committed suicide two weeks earlier. On tape, Hannah unfolds an emotional audio diary, detailing the thirteen reasons why she decided to end her life. Through Hannah and Clay's dual narratives, Thirteen Reasons Why weaves an intricate and heartrending story of confusion and desperation that will deeply affect viewers.                Written by\\nStudio\",\n",
       "        '']], dtype=object)"
      ]
     },
     "execution_count": 25,
     "metadata": {},
     "output_type": "execute_result"
    }
   ],
   "source": [
    "X_train.values"
   ]
  },
  {
   "cell_type": "code",
   "execution_count": 26,
   "metadata": {},
   "outputs": [
    {
     "data": {
      "text/plain": [
       "(459124,)"
      ]
     },
     "execution_count": 26,
     "metadata": {},
     "output_type": "execute_result"
    }
   ],
   "source": [
    "y_train.shape\n"
   ]
  },
  {
   "cell_type": "code",
   "execution_count": 27,
   "metadata": {
    "execution": {
     "iopub.execute_input": "2023-02-28T06:35:48.709993Z",
     "iopub.status.busy": "2023-02-28T06:35:48.709596Z",
     "iopub.status.idle": "2023-02-28T06:35:48.721471Z",
     "shell.execute_reply": "2023-02-28T06:35:48.720074Z",
     "shell.execute_reply.started": "2023-02-28T06:35:48.709954Z"
    }
   },
   "outputs": [
    {
     "data": {
      "text/html": [
       "<div>\n",
       "<style scoped>\n",
       "    .dataframe tbody tr th:only-of-type {\n",
       "        vertical-align: middle;\n",
       "    }\n",
       "\n",
       "    .dataframe tbody tr th {\n",
       "        vertical-align: top;\n",
       "    }\n",
       "\n",
       "    .dataframe thead th {\n",
       "        text-align: right;\n",
       "    }\n",
       "</style>\n",
       "<table border=\"1\" class=\"dataframe\">\n",
       "  <thead>\n",
       "    <tr style=\"text-align: right;\">\n",
       "      <th></th>\n",
       "      <th>review_text</th>\n",
       "      <th>plot_summary</th>\n",
       "      <th>plot_synopsis</th>\n",
       "    </tr>\n",
       "  </thead>\n",
       "  <tbody>\n",
       "    <tr>\n",
       "      <th>123552</th>\n",
       "      <td>i love the show, and first saw the show i reme...</td>\n",
       "      <td>This television drama is about the two Winches...</td>\n",
       "      <td></td>\n",
       "    </tr>\n",
       "    <tr>\n",
       "      <th>441701</th>\n",
       "      <td>This is testimony to how much more sophisticat...</td>\n",
       "      <td>Rancher Dan Evans heads into Bisbee to clear u...</td>\n",
       "      <td>The legendary outlaw, Ben Wade (Russell Crowe)...</td>\n",
       "    </tr>\n",
       "    <tr>\n",
       "      <th>274248</th>\n",
       "      <td>I didnt know what to expect from bright but i ...</td>\n",
       "      <td>In Los Angeles, humans live with orcs and elve...</td>\n",
       "      <td>This film is set in an alternate reality of th...</td>\n",
       "    </tr>\n",
       "    <tr>\n",
       "      <th>505997</th>\n",
       "      <td>Well now. I just saw this movie for the first ...</td>\n",
       "      <td>Frozen in 1996, Simon Phoenix, a convicted cri...</td>\n",
       "      <td>In an alternate 1996, Los Angeles has descende...</td>\n",
       "    </tr>\n",
       "    <tr>\n",
       "      <th>572457</th>\n",
       "      <td>The animation is superb and only occasionally ...</td>\n",
       "      <td>In New York City, you would come across a smal...</td>\n",
       "      <td>The film opens with Fredrick and Eleanor Littl...</td>\n",
       "    </tr>\n",
       "  </tbody>\n",
       "</table>\n",
       "</div>"
      ],
      "text/plain": [
       "                                              review_text  \\\n",
       "123552  i love the show, and first saw the show i reme...   \n",
       "441701  This is testimony to how much more sophisticat...   \n",
       "274248  I didnt know what to expect from bright but i ...   \n",
       "505997  Well now. I just saw this movie for the first ...   \n",
       "572457  The animation is superb and only occasionally ...   \n",
       "\n",
       "                                             plot_summary  \\\n",
       "123552  This television drama is about the two Winches...   \n",
       "441701  Rancher Dan Evans heads into Bisbee to clear u...   \n",
       "274248  In Los Angeles, humans live with orcs and elve...   \n",
       "505997  Frozen in 1996, Simon Phoenix, a convicted cri...   \n",
       "572457  In New York City, you would come across a smal...   \n",
       "\n",
       "                                            plot_synopsis  \n",
       "123552                                                     \n",
       "441701  The legendary outlaw, Ben Wade (Russell Crowe)...  \n",
       "274248  This film is set in an alternate reality of th...  \n",
       "505997  In an alternate 1996, Los Angeles has descende...  \n",
       "572457  The film opens with Fredrick and Eleanor Littl...  "
      ]
     },
     "execution_count": 27,
     "metadata": {},
     "output_type": "execute_result"
    }
   ],
   "source": [
    "X_train.head()"
   ]
  },
  {
   "cell_type": "code",
   "execution_count": 28,
   "metadata": {
    "execution": {
     "iopub.execute_input": "2023-02-28T06:35:48.723404Z",
     "iopub.status.busy": "2023-02-28T06:35:48.723049Z",
     "iopub.status.idle": "2023-02-28T06:35:48.743606Z",
     "shell.execute_reply": "2023-02-28T06:35:48.742575Z",
     "shell.execute_reply.started": "2023-02-28T06:35:48.723362Z"
    }
   },
   "outputs": [],
   "source": [
    "import tensorflow as tf\n",
    "from tensorflow.keras import layers\n",
    "from tensorflow.keras import models\n",
    "from tensorflow.keras import losses\n",
    "from tensorflow.keras.utils import plot_model\n",
    "from tensorflow.keras import Sequential\n",
    "from tensorflow.keras import regularizers"
   ]
  },
  {
   "cell_type": "code",
   "execution_count": 29,
   "metadata": {
    "execution": {
     "iopub.execute_input": "2023-02-28T08:21:39.142445Z",
     "iopub.status.busy": "2023-02-28T08:21:39.140915Z",
     "iopub.status.idle": "2023-02-28T08:21:39.156618Z",
     "shell.execute_reply": "2023-02-28T08:21:39.155093Z",
     "shell.execute_reply.started": "2023-02-28T08:21:39.142384Z"
    }
   },
   "outputs": [],
   "source": [
    "training_dataset1 = tf.data.Dataset.from_tensor_slices(\n",
    "    (X_train['review_text'].values, y_train.values)).batch(batch_size=32)\n",
    "training_dataset2 = tf.data.Dataset.from_tensor_slices(\n",
    "    (X_train['plot_summary'].values, y_train.values)).batch(batch_size=32)\n",
    "training_dataset3 = tf.data.Dataset.from_tensor_slices(\n",
    "    (X_train['plot_synopsis'].values, y_train.values)).batch(batch_size=32)\n",
    "training_dataset = tf.data.Dataset.from_tensor_slices(\n",
    "    (X_train.values, y_train.values))\n"
   ]
  },
  {
   "cell_type": "code",
   "execution_count": null,
   "metadata": {},
   "outputs": [],
   "source": [
    "training_dataset"
   ]
  },
  {
   "cell_type": "code",
   "execution_count": null,
   "metadata": {},
   "outputs": [],
   "source": [
    "training_dataset1"
   ]
  },
  {
   "cell_type": "code",
   "execution_count": null,
   "metadata": {},
   "outputs": [],
   "source": [
    "#Bag Of Words\n",
    "vocab_size = 10000\n",
    "\n",
    "count_vectorizer = tf.keras.layers.TextVectorization(\n",
    "    max_tokens=vocab_size,\n",
    "    output_mode='count'\n",
    ")\n",
    "\n",
    "combineAll = X_train['review_text'] + ' ' + X_train['plot_summary'] + ' ' + X_train['plot_synopsis']\n",
    "count_vectorizer.adapt(combineAll.values)"
   ]
  },
  {
   "cell_type": "code",
   "execution_count": null,
   "metadata": {},
   "outputs": [],
   "source": [
    "count_vectorizer.get_vocabulary()[:50]\n"
   ]
  },
  {
   "cell_type": "code",
   "execution_count": 30,
   "metadata": {},
   "outputs": [],
   "source": [
    "#Bag Of Words\n",
    "vocab_size = 10000\n",
    "\n",
    "count_vectorizer1 = tf.keras.layers.TextVectorization(\n",
    "    max_tokens=vocab_size,\n",
    "    output_mode='count'\n",
    ")\n",
    "\n",
    "count_vectorizer1.adapt(X_train['review_text'].values)"
   ]
  },
  {
   "cell_type": "code",
   "execution_count": 31,
   "metadata": {},
   "outputs": [
    {
     "data": {
      "text/plain": [
       "['[UNK]',\n",
       " 'the',\n",
       " 'and',\n",
       " 'a',\n",
       " 'of',\n",
       " 'to',\n",
       " 'is',\n",
       " 'in',\n",
       " 'it',\n",
       " 'i',\n",
       " 'that',\n",
       " 'this',\n",
       " 'movie',\n",
       " 'was',\n",
       " 'as',\n",
       " 'for',\n",
       " 'with',\n",
       " 'but',\n",
       " 'film',\n",
       " 'you',\n",
       " 'not',\n",
       " 'his',\n",
       " 'on',\n",
       " 'are',\n",
       " 'he',\n",
       " 'have',\n",
       " 'be',\n",
       " 'its',\n",
       " 'all',\n",
       " 'one',\n",
       " 'an',\n",
       " 'at',\n",
       " 'so',\n",
       " 'by',\n",
       " 'they',\n",
       " 'like',\n",
       " 'from',\n",
       " 'just',\n",
       " 'who',\n",
       " 'has',\n",
       " 'about',\n",
       " 'more',\n",
       " 'or',\n",
       " 'good',\n",
       " 'what',\n",
       " 'out',\n",
       " 'there',\n",
       " 'if',\n",
       " 'some',\n",
       " 'story']"
      ]
     },
     "execution_count": 31,
     "metadata": {},
     "output_type": "execute_result"
    }
   ],
   "source": [
    "count_vectorizer1.get_vocabulary()[:50]"
   ]
  },
  {
   "cell_type": "code",
   "execution_count": null,
   "metadata": {},
   "outputs": [],
   "source": [
    "#TFDIF\n",
    "vocab_size = 10000\n",
    "\n",
    "tfidf_vectorizer = tf.keras.layers.TextVectorization(\n",
    "    max_tokens=vocab_size,\n",
    "    output_mode='tf-idf',\n",
    "    ngrams=(2, 3)\n",
    ")\n",
    "\n",
    "tfidf_vectorizer.adapt(combineAll.values)"
   ]
  },
  {
   "cell_type": "code",
   "execution_count": null,
   "metadata": {},
   "outputs": [],
   "source": [
    "tfidf_vectorizer.get_vocabulary()[:10]"
   ]
  },
  {
   "cell_type": "code",
   "execution_count": 32,
   "metadata": {},
   "outputs": [],
   "source": [
    "#Bag Of Words Model\n",
    "\n",
    "#model1 = Sequential([\n",
    "#    count_vectorizer,\n",
    "#    layers.Dense(64, activation='relu', kernel_regularizer=regularizers.l1_l2(l1=0, l2=1e-3)),\n",
    "#])\n",
    "\n",
    "# model2 = Sequential([\n",
    "#     count_vectorizer,\n",
    "#     layers.Dense(64, activation='relu', kernel_regularizer=regularizers.l1_l2(l1=0, l2=1e-3)),\n",
    "# ])\n",
    "\n",
    "# model3 = Sequential([\n",
    "#     count_vectorizer,\n",
    "#     layers.Dense(64, activation='relu', kernel_regularizer=regularizers.l1_l2(l1=0, l2=1e-3)),\n",
    "# ])\n",
    "\n",
    "#y1 = model1(training_dataset1)\n",
    "#y2 = model1(training_dataset2)\n",
    "#y3 = model1(training_dataset3)\n",
    "\n",
    "\n",
    "#concatted = tf.keras.layers.Concatenate()([y1, y2, y3])\n",
    "\n",
    "#model.add(tf.keras.Input(shape=(1,), dtype=tf.string))\n",
    "model = Sequential([\n",
    "    count_vectorizer1,\n",
    "    layers.Dense(192, activation='relu', kernel_regularizer=regularizers.l1_l2(l1=0, l2=1e-3)),\n",
    "    layers.Dropout(0.1),\n",
    "    layers.Dense(64, activation='relu', kernel_regularizer=regularizers.l1_l2(l1=0, l2=1e-3)),\n",
    "    layers.Dropout(0.1),\n",
    "    layers.Dense(1, activation='sigmoid')\n",
    "])\n",
    "\n"
   ]
  },
  {
   "cell_type": "code",
   "execution_count": 33,
   "metadata": {
    "scrolled": true
   },
   "outputs": [
    {
     "name": "stdout",
     "output_type": "stream",
     "text": [
      "Model: \"sequential\"\n",
      "_________________________________________________________________\n",
      " Layer (type)                Output Shape              Param #   \n",
      "=================================================================\n",
      " text_vectorization (TextVec  (None, 10000)            0         \n",
      " torization)                                                     \n",
      "                                                                 \n",
      " dense (Dense)               (None, 192)               1920192   \n",
      "                                                                 \n",
      " dropout (Dropout)           (None, 192)               0         \n",
      "                                                                 \n",
      " dense_1 (Dense)             (None, 64)                12352     \n",
      "                                                                 \n",
      " dropout_1 (Dropout)         (None, 64)                0         \n",
      "                                                                 \n",
      " dense_2 (Dense)             (None, 1)                 65        \n",
      "                                                                 \n",
      "=================================================================\n",
      "Total params: 1,932,609\n",
      "Trainable params: 1,932,609\n",
      "Non-trainable params: 0\n",
      "_________________________________________________________________\n"
     ]
    }
   ],
   "source": [
    "model.summary()"
   ]
  },
  {
   "cell_type": "code",
   "execution_count": 34,
   "metadata": {},
   "outputs": [
    {
     "data": {
      "image/png": "[encoded data removed]",
      "text/plain": [
       "<IPython.core.display.Image object>"
      ]
     },
     "execution_count": 34,
     "metadata": {},
     "output_type": "execute_result"
    }
   ],
   "source": [
    "import pydot\n",
    "import graphviz \n",
    "tf.keras.utils.plot_model(model, \"ensemble_model.png\", show_shapes=True)"
   ]
  },
  {
   "cell_type": "code",
   "execution_count": null,
   "metadata": {},
   "outputs": [],
   "source": [
    "model.compile(\n",
    "    loss=tf.keras.losses.binary_crossentropy,\n",
    "    optimizer=tf.keras.optimizers.Adam(),\n",
    "    metrics=['accuracy']\n",
    ")\n",
    "\n",
    "history = model.fit(\n",
    "    training_dataset1,\n",
    "    steps_per_epoch=len(training_dataset),\n",
    "    epochs=5,\n",
    "    #validation_data=validation_dataset,\n",
    "    #validation_steps=len(validation_dataset)\n",
    ")"
   ]
  },
  {
   "cell_type": "code",
   "execution_count": null,
   "metadata": {},
   "outputs": [],
   "source": []
  },
  {
   "cell_type": "code",
   "execution_count": null,
   "metadata": {
    "execution": {
     "iopub.execute_input": "2023-02-28T08:21:45.885251Z",
     "iopub.status.busy": "2023-02-28T08:21:45.883933Z",
     "iopub.status.idle": "2023-02-28T08:21:45.890404Z",
     "shell.execute_reply": "2023-02-28T08:21:45.889052Z",
     "shell.execute_reply.started": "2023-02-28T08:21:45.885198Z"
    }
   },
   "outputs": [],
   "source": [
    "from sklearn.feature_extraction.text import TfidfVectorizer"
   ]
  },
  {
   "cell_type": "code",
   "execution_count": null,
   "metadata": {
    "execution": {
     "iopub.execute_input": "2023-02-28T08:21:46.455645Z",
     "iopub.status.busy": "2023-02-28T08:21:46.454867Z",
     "iopub.status.idle": "2023-02-28T08:21:46.461260Z",
     "shell.execute_reply": "2023-02-28T08:21:46.459812Z",
     "shell.execute_reply.started": "2023-02-28T08:21:46.455602Z"
    }
   },
   "outputs": [],
   "source": [
    "tfidf = TfidfVectorizer(preprocessor = clean_text,stop_words='english')"
   ]
  },
  {
   "cell_type": "code",
   "execution_count": null,
   "metadata": {
    "execution": {
     "iopub.execute_input": "2023-02-28T08:21:50.747265Z",
     "iopub.status.busy": "2023-02-28T08:21:50.746763Z",
     "iopub.status.idle": "2023-02-28T08:21:53.009669Z",
     "shell.execute_reply": "2023-02-28T08:21:53.008289Z",
     "shell.execute_reply.started": "2023-02-28T08:21:50.747224Z"
    }
   },
   "outputs": [],
   "source": [
    "tfidf.fit_transform(X_train)"
   ]
  },
  {
   "cell_type": "code",
   "execution_count": null,
   "metadata": {
    "execution": {
     "iopub.execute_input": "2023-02-28T08:21:55.335386Z",
     "iopub.status.busy": "2023-02-28T08:21:55.334962Z",
     "iopub.status.idle": "2023-02-28T08:21:57.921095Z",
     "shell.execute_reply": "2023-02-28T08:21:57.919819Z",
     "shell.execute_reply.started": "2023-02-28T08:21:55.335350Z"
    }
   },
   "outputs": [],
   "source": [
    "X_train_tfidf = tfidf.transform(X_train)\n",
    "X_test_tfidf = tfidf.transform(X_test)"
   ]
  },
  {
   "cell_type": "code",
   "execution_count": null,
   "metadata": {
    "execution": {
     "iopub.execute_input": "2023-02-28T08:22:04.469626Z",
     "iopub.status.busy": "2023-02-28T08:22:04.468964Z",
     "iopub.status.idle": "2023-02-28T08:22:04.476758Z",
     "shell.execute_reply": "2023-02-28T08:22:04.475235Z",
     "shell.execute_reply.started": "2023-02-28T08:22:04.469588Z"
    }
   },
   "outputs": [],
   "source": [
    "X_train_tfidf"
   ]
  },
  {
   "cell_type": "code",
   "execution_count": null,
   "metadata": {},
   "outputs": [],
   "source": [
    "tfidf.get_feature_names()"
   ]
  },
  {
   "cell_type": "code",
   "execution_count": null,
   "metadata": {
    "execution": {
     "iopub.execute_input": "2023-02-28T07:42:28.980305Z",
     "iopub.status.busy": "2023-02-28T07:42:28.979883Z",
     "iopub.status.idle": "2023-02-28T07:42:28.985318Z",
     "shell.execute_reply": "2023-02-28T07:42:28.984344Z",
     "shell.execute_reply.started": "2023-02-28T07:42:28.980269Z"
    }
   },
   "outputs": [],
   "source": [
    "from sklearn.preprocessing import OneHotEncoder"
   ]
  },
  {
   "cell_type": "code",
   "execution_count": null,
   "metadata": {
    "execution": {
     "iopub.execute_input": "2023-02-28T07:46:03.401587Z",
     "iopub.status.busy": "2023-02-28T07:46:03.400611Z",
     "iopub.status.idle": "2023-02-28T07:46:03.409172Z",
     "shell.execute_reply": "2023-02-28T07:46:03.407872Z",
     "shell.execute_reply.started": "2023-02-28T07:46:03.401531Z"
    }
   },
   "outputs": [],
   "source": [
    "one_enc = OneHotEncoder()\n",
    "Y_temp = one_enc.fit_transform(y.values.reshape(-1,1))"
   ]
  },
  {
   "cell_type": "code",
   "execution_count": null,
   "metadata": {
    "execution": {
     "iopub.execute_input": "2023-02-28T07:50:19.507851Z",
     "iopub.status.busy": "2023-02-28T07:50:19.506621Z",
     "iopub.status.idle": "2023-02-28T07:50:19.513540Z",
     "shell.execute_reply": "2023-02-28T07:50:19.512321Z",
     "shell.execute_reply.started": "2023-02-28T07:50:19.507805Z"
    }
   },
   "outputs": [],
   "source": [
    "y = pd.DataFrame(Y_temp.toarray())"
   ]
  },
  {
   "cell_type": "code",
   "execution_count": null,
   "metadata": {
    "execution": {
     "iopub.execute_input": "2023-02-28T07:52:40.397713Z",
     "iopub.status.busy": "2023-02-28T07:52:40.397328Z",
     "iopub.status.idle": "2023-02-28T07:52:40.413070Z",
     "shell.execute_reply": "2023-02-28T07:52:40.411425Z",
     "shell.execute_reply.started": "2023-02-28T07:52:40.397678Z"
    }
   },
   "outputs": [],
   "source": [
    "y"
   ]
  },
  {
   "cell_type": "code",
   "execution_count": null,
   "metadata": {
    "execution": {
     "iopub.execute_input": "2023-02-28T07:53:32.173394Z",
     "iopub.status.busy": "2023-02-28T07:53:32.172979Z",
     "iopub.status.idle": "2023-02-28T07:53:32.183201Z",
     "shell.execute_reply": "2023-02-28T07:53:32.181530Z",
     "shell.execute_reply.started": "2023-02-28T07:53:32.173356Z"
    }
   },
   "outputs": [],
   "source": [
    "y.drop(0, axis = 1, inplace = True)"
   ]
  },
  {
   "cell_type": "code",
   "execution_count": null,
   "metadata": {
    "execution": {
     "iopub.execute_input": "2023-02-28T08:22:39.150204Z",
     "iopub.status.busy": "2023-02-28T08:22:39.149788Z",
     "iopub.status.idle": "2023-02-28T08:22:39.163442Z",
     "shell.execute_reply": "2023-02-28T08:22:39.162096Z",
     "shell.execute_reply.started": "2023-02-28T08:22:39.150169Z"
    }
   },
   "outputs": [],
   "source": [
    "y"
   ]
  },
  {
   "cell_type": "code",
   "execution_count": null,
   "metadata": {
    "execution": {
     "iopub.execute_input": "2023-02-28T07:53:55.514971Z",
     "iopub.status.busy": "2023-02-28T07:53:55.513810Z",
     "iopub.status.idle": "2023-02-28T07:53:55.526713Z",
     "shell.execute_reply": "2023-02-28T07:53:55.525214Z",
     "shell.execute_reply.started": "2023-02-28T07:53:55.514915Z"
    }
   },
   "outputs": [],
   "source": [
    "from sklearn.model_selection import train_test_split\n",
    "X_train, X_test, y_train, y_test = train_test_split(X, y, test_size = 0.2, random_state = 1)"
   ]
  },
  {
   "cell_type": "code",
   "execution_count": null,
   "metadata": {
    "execution": {
     "iopub.execute_input": "2023-02-28T08:22:44.287716Z",
     "iopub.status.busy": "2023-02-28T08:22:44.287281Z",
     "iopub.status.idle": "2023-02-28T08:22:44.294171Z",
     "shell.execute_reply": "2023-02-28T08:22:44.292758Z",
     "shell.execute_reply.started": "2023-02-28T08:22:44.287677Z"
    }
   },
   "outputs": [],
   "source": [
    "from sklearn.ensemble import RandomForestClassifier\n",
    "rf = RandomForestClassifier()"
   ]
  },
  {
   "cell_type": "code",
   "execution_count": null,
   "metadata": {
    "execution": {
     "iopub.execute_input": "2023-02-28T08:22:46.394795Z",
     "iopub.status.busy": "2023-02-28T08:22:46.394383Z",
     "iopub.status.idle": "2023-02-28T08:22:46.403380Z",
     "shell.execute_reply": "2023-02-28T08:22:46.402169Z",
     "shell.execute_reply.started": "2023-02-28T08:22:46.394744Z"
    }
   },
   "outputs": [],
   "source": [
    "X_train_tfidf.shape"
   ]
  },
  {
   "cell_type": "code",
   "execution_count": null,
   "metadata": {
    "execution": {
     "iopub.execute_input": "2023-02-28T08:22:48.709082Z",
     "iopub.status.busy": "2023-02-28T08:22:48.708645Z",
     "iopub.status.idle": "2023-02-28T08:22:48.718121Z",
     "shell.execute_reply": "2023-02-28T08:22:48.716703Z",
     "shell.execute_reply.started": "2023-02-28T08:22:48.709048Z"
    }
   },
   "outputs": [],
   "source": [
    "y_train.shape"
   ]
  },
  {
   "cell_type": "code",
   "execution_count": null,
   "metadata": {
    "execution": {
     "iopub.execute_input": "2023-02-28T08:22:53.646503Z",
     "iopub.status.busy": "2023-02-28T08:22:53.646031Z",
     "iopub.status.idle": "2023-02-28T08:23:05.286559Z",
     "shell.execute_reply": "2023-02-28T08:23:05.285309Z",
     "shell.execute_reply.started": "2023-02-28T08:22:53.646464Z"
    }
   },
   "outputs": [],
   "source": [
    "rf.fit(X_train_tfidf, y_train)"
   ]
  },
  {
   "cell_type": "code",
   "execution_count": null,
   "metadata": {
    "execution": {
     "iopub.execute_input": "2023-02-28T08:24:31.787400Z",
     "iopub.status.busy": "2023-02-28T08:24:31.786994Z",
     "iopub.status.idle": "2023-02-28T08:24:32.022094Z",
     "shell.execute_reply": "2023-02-28T08:24:32.020766Z",
     "shell.execute_reply.started": "2023-02-28T08:24:31.787364Z"
    }
   },
   "outputs": [],
   "source": [
    "y_pred = rf.predict(X_test_tfidf)"
   ]
  },
  {
   "cell_type": "code",
   "execution_count": null,
   "metadata": {
    "execution": {
     "iopub.execute_input": "2023-02-28T08:25:24.667637Z",
     "iopub.status.busy": "2023-02-28T08:25:24.667233Z",
     "iopub.status.idle": "2023-02-28T08:25:24.678728Z",
     "shell.execute_reply": "2023-02-28T08:25:24.677227Z",
     "shell.execute_reply.started": "2023-02-28T08:25:24.667599Z"
    }
   },
   "outputs": [],
   "source": [
    "from sklearn.metrics import r2_score\n",
    "r2_score(y_test, y_pred)"
   ]
  },
  {
   "cell_type": "code",
   "execution_count": null,
   "metadata": {
    "execution": {
     "iopub.execute_input": "2023-02-28T08:31:10.746966Z",
     "iopub.status.busy": "2023-02-28T08:31:10.746524Z",
     "iopub.status.idle": "2023-02-28T08:31:10.757636Z",
     "shell.execute_reply": "2023-02-28T08:31:10.756121Z",
     "shell.execute_reply.started": "2023-02-28T08:31:10.746926Z"
    }
   },
   "outputs": [],
   "source": [
    "from sklearn.metrics import confusion_matrix\n",
    "print(confusion_matrix(y_test,y_pred))"
   ]
  },
  {
   "cell_type": "code",
   "execution_count": null,
   "metadata": {
    "execution": {
     "iopub.execute_input": "2023-02-28T08:33:36.332998Z",
     "iopub.status.busy": "2023-02-28T08:33:36.332558Z",
     "iopub.status.idle": "2023-02-28T08:33:37.158435Z",
     "shell.execute_reply": "2023-02-28T08:33:37.157000Z",
     "shell.execute_reply.started": "2023-02-28T08:33:36.332961Z"
    }
   },
   "outputs": [],
   "source": [
    "y_pred_Train = rf.predict(X_train_tfidf)"
   ]
  },
  {
   "cell_type": "code",
   "execution_count": null,
   "metadata": {
    "execution": {
     "iopub.execute_input": "2023-02-28T08:33:54.833749Z",
     "iopub.status.busy": "2023-02-28T08:33:54.833357Z",
     "iopub.status.idle": "2023-02-28T08:33:54.842966Z",
     "shell.execute_reply": "2023-02-28T08:33:54.842123Z",
     "shell.execute_reply.started": "2023-02-28T08:33:54.833714Z"
    }
   },
   "outputs": [],
   "source": [
    "from sklearn.metrics import r2_score\n",
    "r2_score(y_train, y_pred_Train)"
   ]
  },
  {
   "cell_type": "code",
   "execution_count": null,
   "metadata": {
    "execution": {
     "iopub.execute_input": "2023-02-28T08:26:56.605336Z",
     "iopub.status.busy": "2023-02-28T08:26:56.604923Z",
     "iopub.status.idle": "2023-02-28T08:26:56.618457Z",
     "shell.execute_reply": "2023-02-28T08:26:56.617249Z",
     "shell.execute_reply.started": "2023-02-28T08:26:56.605299Z"
    }
   },
   "outputs": [],
   "source": [
    "from sklearn.ensemble import GradientBoostingRegressor"
   ]
  },
  {
   "cell_type": "code",
   "execution_count": null,
   "metadata": {
    "execution": {
     "iopub.execute_input": "2023-02-28T08:35:22.845926Z",
     "iopub.status.busy": "2023-02-28T08:35:22.845430Z",
     "iopub.status.idle": "2023-02-28T08:35:22.855937Z",
     "shell.execute_reply": "2023-02-28T08:35:22.854700Z",
     "shell.execute_reply.started": "2023-02-28T08:35:22.845881Z"
    }
   },
   "outputs": [],
   "source": [
    "from sklearn.metrics import accuracy_score\n",
    "accuracy_score(y_test, y_pred)"
   ]
  },
  {
   "cell_type": "code",
   "execution_count": null,
   "metadata": {},
   "outputs": [],
   "source": []
  },
  {
   "cell_type": "code",
   "execution_count": null,
   "metadata": {},
   "outputs": [],
   "source": []
  }
 ],
 "metadata": {
  "kernelspec": {
   "display_name": "Python 3 (ipykernel)",
   "language": "python",
   "name": "python3"
  },
  "language_info": {
   "codemirror_mode": {
    "name": "ipython",
    "version": 3
   },
   "file_extension": ".py",
   "mimetype": "text/x-python",
   "name": "python",
   "nbconvert_exporter": "python",
   "pygments_lexer": "ipython3",
   "version": "3.10.9"
  }
 },
 "nbformat": 4,
 "nbformat_minor": 4
}
